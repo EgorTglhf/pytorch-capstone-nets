{
 "cells": [
  {
   "cell_type": "markdown",
   "id": "c6c6259b",
   "metadata": {},
   "source": [
    "# Classifying Retinal Images for Diabetes Retinopathy"
   ]
  },
  {
   "cell_type": "markdown",
   "id": "0c6855dd",
   "metadata": {},
   "source": [
    "## Preparations"
   ]
  },
  {
   "cell_type": "markdown",
   "id": "1ebb1557",
   "metadata": {},
   "source": [
    "### Import libraries"
   ]
  },
  {
   "cell_type": "code",
   "execution_count": 23,
   "id": "86795885",
   "metadata": {},
   "outputs": [],
   "source": [
    "import numpy as np\n",
    "import pandas as pd\n",
    "\n",
    "import torch\n",
    "import torch.nn as nn\n",
    "import torch.optim as optim\n",
    "from torch.utils.data import DataLoader, Dataset\n",
    "\n",
    "from sklearn.metrics import classification_report\n",
    "\n",
    "import matplotlib.pyplot as plt\n",
    "\n",
    "import torchvision\n",
    "from torchvision import transforms\n",
    "from PIL import Image\n",
    "import os"
   ]
  },
  {
   "cell_type": "markdown",
   "id": "b606ec40",
   "metadata": {},
   "source": [
    "### Download dataset"
   ]
  },
  {
   "cell_type": "markdown",
   "id": "664b58e8",
   "metadata": {},
   "source": [
    "#### Download labels"
   ]
  },
  {
   "cell_type": "code",
   "execution_count": 2,
   "id": "11b99828",
   "metadata": {},
   "outputs": [
    {
     "data": {
      "application/vnd.microsoft.datawrangler.viewer.v0+json": {
       "columns": [
        {
         "name": "index",
         "rawType": "int64",
         "type": "integer"
        },
        {
         "name": "Image name",
         "rawType": "object",
         "type": "string"
        },
        {
         "name": "Retinopathy grade",
         "rawType": "int64",
         "type": "integer"
        },
        {
         "name": "Risk of macular edema",
         "rawType": "int64",
         "type": "integer"
        },
        {
         "name": "Retinopathy",
         "rawType": "int64",
         "type": "integer"
        }
       ],
       "ref": "344b5599-727b-4451-bfe3-35de2a6bb848",
       "rows": [
        [
         "0",
         "IDRiD_001",
         "3",
         "2",
         "1"
        ],
        [
         "1",
         "IDRiD_002",
         "3",
         "2",
         "1"
        ],
        [
         "2",
         "IDRiD_003",
         "2",
         "2",
         "1"
        ],
        [
         "3",
         "IDRiD_004",
         "3",
         "2",
         "1"
        ],
        [
         "4",
         "IDRiD_005",
         "4",
         "0",
         "1"
        ]
       ],
       "shape": {
        "columns": 4,
        "rows": 5
       }
      },
      "text/html": [
       "<div>\n",
       "<style scoped>\n",
       "    .dataframe tbody tr th:only-of-type {\n",
       "        vertical-align: middle;\n",
       "    }\n",
       "\n",
       "    .dataframe tbody tr th {\n",
       "        vertical-align: top;\n",
       "    }\n",
       "\n",
       "    .dataframe thead th {\n",
       "        text-align: right;\n",
       "    }\n",
       "</style>\n",
       "<table border=\"1\" class=\"dataframe\">\n",
       "  <thead>\n",
       "    <tr style=\"text-align: right;\">\n",
       "      <th></th>\n",
       "      <th>Image name</th>\n",
       "      <th>Retinopathy grade</th>\n",
       "      <th>Risk of macular edema</th>\n",
       "      <th>Retinopathy</th>\n",
       "    </tr>\n",
       "  </thead>\n",
       "  <tbody>\n",
       "    <tr>\n",
       "      <th>0</th>\n",
       "      <td>IDRiD_001</td>\n",
       "      <td>3</td>\n",
       "      <td>2</td>\n",
       "      <td>1</td>\n",
       "    </tr>\n",
       "    <tr>\n",
       "      <th>1</th>\n",
       "      <td>IDRiD_002</td>\n",
       "      <td>3</td>\n",
       "      <td>2</td>\n",
       "      <td>1</td>\n",
       "    </tr>\n",
       "    <tr>\n",
       "      <th>2</th>\n",
       "      <td>IDRiD_003</td>\n",
       "      <td>2</td>\n",
       "      <td>2</td>\n",
       "      <td>1</td>\n",
       "    </tr>\n",
       "    <tr>\n",
       "      <th>3</th>\n",
       "      <td>IDRiD_004</td>\n",
       "      <td>3</td>\n",
       "      <td>2</td>\n",
       "      <td>1</td>\n",
       "    </tr>\n",
       "    <tr>\n",
       "      <th>4</th>\n",
       "      <td>IDRiD_005</td>\n",
       "      <td>4</td>\n",
       "      <td>0</td>\n",
       "      <td>1</td>\n",
       "    </tr>\n",
       "  </tbody>\n",
       "</table>\n",
       "</div>"
      ],
      "text/plain": [
       "  Image name  Retinopathy grade  Risk of macular edema  Retinopathy\n",
       "0  IDRiD_001                  3                      2            1\n",
       "1  IDRiD_002                  3                      2            1\n",
       "2  IDRiD_003                  2                      2            1\n",
       "3  IDRiD_004                  3                      2            1\n",
       "4  IDRiD_005                  4                      0            1"
      ]
     },
     "execution_count": 2,
     "metadata": {},
     "output_type": "execute_result"
    }
   ],
   "source": [
    "train_df = pd.read_csv(\"datasets/diabetic_retinopathy_images/groundtruths/training_labels.csv\")\n",
    "test_df = pd.read_csv(\"datasets/diabetic_retinopathy_images/groundtruths/testing_labels.csv\")\n",
    "\n",
    "train_df.head()\n"
   ]
  },
  {
   "cell_type": "code",
   "execution_count": 3,
   "id": "ba021174",
   "metadata": {},
   "outputs": [
    {
     "data": {
      "application/vnd.microsoft.datawrangler.viewer.v0+json": {
       "columns": [
        {
         "name": "index",
         "rawType": "object",
         "type": "string"
        },
        {
         "name": "Retinopathy grade",
         "rawType": "float64",
         "type": "float"
        },
        {
         "name": "Risk of macular edema",
         "rawType": "float64",
         "type": "float"
        },
        {
         "name": "Retinopathy",
         "rawType": "float64",
         "type": "float"
        }
       ],
       "ref": "51bd8055-19b5-411c-a37b-94a6a852a297",
       "rows": [
        [
         "count",
         "413.0",
         "413.0",
         "413.0"
        ],
        [
         "mean",
         "1.7191283292978208",
         "1.0435835351089588",
         "0.6755447941888619"
        ],
        [
         "std",
         "1.3877225931819162",
         "0.9492146682021888",
         "0.4687387601793085"
        ],
        [
         "min",
         "0.0",
         "0.0",
         "0.0"
        ],
        [
         "25%",
         "0.0",
         "0.0",
         "0.0"
        ],
        [
         "50%",
         "2.0",
         "1.0",
         "1.0"
        ],
        [
         "75%",
         "3.0",
         "2.0",
         "1.0"
        ],
        [
         "max",
         "4.0",
         "2.0",
         "1.0"
        ]
       ],
       "shape": {
        "columns": 3,
        "rows": 8
       }
      },
      "text/html": [
       "<div>\n",
       "<style scoped>\n",
       "    .dataframe tbody tr th:only-of-type {\n",
       "        vertical-align: middle;\n",
       "    }\n",
       "\n",
       "    .dataframe tbody tr th {\n",
       "        vertical-align: top;\n",
       "    }\n",
       "\n",
       "    .dataframe thead th {\n",
       "        text-align: right;\n",
       "    }\n",
       "</style>\n",
       "<table border=\"1\" class=\"dataframe\">\n",
       "  <thead>\n",
       "    <tr style=\"text-align: right;\">\n",
       "      <th></th>\n",
       "      <th>Retinopathy grade</th>\n",
       "      <th>Risk of macular edema</th>\n",
       "      <th>Retinopathy</th>\n",
       "    </tr>\n",
       "  </thead>\n",
       "  <tbody>\n",
       "    <tr>\n",
       "      <th>count</th>\n",
       "      <td>413.000000</td>\n",
       "      <td>413.000000</td>\n",
       "      <td>413.000000</td>\n",
       "    </tr>\n",
       "    <tr>\n",
       "      <th>mean</th>\n",
       "      <td>1.719128</td>\n",
       "      <td>1.043584</td>\n",
       "      <td>0.675545</td>\n",
       "    </tr>\n",
       "    <tr>\n",
       "      <th>std</th>\n",
       "      <td>1.387723</td>\n",
       "      <td>0.949215</td>\n",
       "      <td>0.468739</td>\n",
       "    </tr>\n",
       "    <tr>\n",
       "      <th>min</th>\n",
       "      <td>0.000000</td>\n",
       "      <td>0.000000</td>\n",
       "      <td>0.000000</td>\n",
       "    </tr>\n",
       "    <tr>\n",
       "      <th>25%</th>\n",
       "      <td>0.000000</td>\n",
       "      <td>0.000000</td>\n",
       "      <td>0.000000</td>\n",
       "    </tr>\n",
       "    <tr>\n",
       "      <th>50%</th>\n",
       "      <td>2.000000</td>\n",
       "      <td>1.000000</td>\n",
       "      <td>1.000000</td>\n",
       "    </tr>\n",
       "    <tr>\n",
       "      <th>75%</th>\n",
       "      <td>3.000000</td>\n",
       "      <td>2.000000</td>\n",
       "      <td>1.000000</td>\n",
       "    </tr>\n",
       "    <tr>\n",
       "      <th>max</th>\n",
       "      <td>4.000000</td>\n",
       "      <td>2.000000</td>\n",
       "      <td>1.000000</td>\n",
       "    </tr>\n",
       "  </tbody>\n",
       "</table>\n",
       "</div>"
      ],
      "text/plain": [
       "       Retinopathy grade  Risk of macular edema  Retinopathy\n",
       "count         413.000000             413.000000   413.000000\n",
       "mean            1.719128               1.043584     0.675545\n",
       "std             1.387723               0.949215     0.468739\n",
       "min             0.000000               0.000000     0.000000\n",
       "25%             0.000000               0.000000     0.000000\n",
       "50%             2.000000               1.000000     1.000000\n",
       "75%             3.000000               2.000000     1.000000\n",
       "max             4.000000               2.000000     1.000000"
      ]
     },
     "execution_count": 3,
     "metadata": {},
     "output_type": "execute_result"
    }
   ],
   "source": [
    "train_df.describe()"
   ]
  },
  {
   "cell_type": "code",
   "execution_count": 4,
   "id": "bd96b572",
   "metadata": {},
   "outputs": [
    {
     "name": "stdout",
     "output_type": "stream",
     "text": [
      "Training shape: (413, 4)\n",
      "Testing shape: (103, 4)\n"
     ]
    }
   ],
   "source": [
    "print(\"Training shape:\", train_df.shape)\n",
    "print(\"Testing shape:\", test_df.shape)"
   ]
  },
  {
   "cell_type": "markdown",
   "id": "5fb4eef2",
   "metadata": {},
   "source": [
    "We aim to binary classification task in this project, so we inspect the column Retinopathy."
   ]
  },
  {
   "cell_type": "code",
   "execution_count": 5,
   "id": "9979d652",
   "metadata": {},
   "outputs": [
    {
     "name": "stdout",
     "output_type": "stream",
     "text": [
      "Training Distribution: Retinopathy\n",
      "1    0.675545\n",
      "0    0.324455\n",
      "Name: proportion, dtype: float64 \n",
      "\n",
      "Testing Distribution: Retinopathy\n",
      "1    0.669903\n",
      "0    0.330097\n",
      "Name: proportion, dtype: float64\n"
     ]
    }
   ],
   "source": [
    "print(\"Training Distribution:\", train_df['Retinopathy'].value_counts(1), \"\\n\")\n",
    "print(\"Testing Distribution:\", test_df['Retinopathy'].value_counts(1))"
   ]
  },
  {
   "cell_type": "markdown",
   "id": "910d2839",
   "metadata": {},
   "source": [
    "#### Create custom dataset class"
   ]
  },
  {
   "cell_type": "code",
   "execution_count": 6,
   "id": "1089c126",
   "metadata": {},
   "outputs": [],
   "source": [
    "class DRDataset(Dataset):\n",
    "    def __init__(self, img_dir, csv_file, transform=None):\n",
    "        self.img_dir = img_dir\n",
    "        self.transform = transform\n",
    "        self.labels_df = pd.read_csv(csv_file)\n",
    "        \n",
    "    def __len__(self):\n",
    "        return len(self.labels_df)\n",
    "    \n",
    "    def __getitem__(self, idx):\n",
    "        # Extract image name (assuming first column contains image names)\n",
    "        img_name = self.labels_df.iloc[idx, 0]\n",
    "        \n",
    "        # Construct full image path\n",
    "        img_path = os.path.join(self.img_dir, f\"{img_name}.jpg\")\n",
    "        image = Image.open(img_path).convert('RGB')\n",
    "        \n",
    "        # Get binary label from \"Retinopathy\" column\n",
    "        label = self.labels_df.iloc[idx, -1]\n",
    "        label = torch.tensor(label, dtype=torch.float)\n",
    "        \n",
    "        if self.transform:\n",
    "            image = self.transform(image)\n",
    "            \n",
    "        return image, label"
   ]
  },
  {
   "cell_type": "markdown",
   "id": "eac6ca97",
   "metadata": {},
   "source": [
    "## Data preparation"
   ]
  },
  {
   "cell_type": "markdown",
   "id": "6d82f809",
   "metadata": {},
   "source": [
    "### Data transform"
   ]
  },
  {
   "cell_type": "code",
   "execution_count": 7,
   "id": "33ca37da",
   "metadata": {},
   "outputs": [],
   "source": [
    "train_transform = transforms.Compose([\n",
    "    transforms.Resize((224, 224)),\n",
    "    transforms.RandomHorizontalFlip(),\n",
    "    transforms.RandomRotation(15),\n",
    "    transforms.ColorJitter(brightness=0.2, contrast=0.2, saturation=0.1, hue=0.05),\n",
    "    transforms.ToTensor(),\n",
    "    transforms.Normalize((0.5, 0.5, 0.5), (0.5, 0.5, 0.5))  \n",
    "])"
   ]
  },
  {
   "cell_type": "code",
   "execution_count": 8,
   "id": "29ddc28b",
   "metadata": {},
   "outputs": [],
   "source": [
    "test_transform = transforms.Compose([\n",
    "    transforms.Resize((224, 224)),\n",
    "    transforms.ToTensor(), \n",
    "    transforms.Normalize((0.5, 0.5, 0.5), (0.5, 0.5, 0.5))  \n",
    "])"
   ]
  },
  {
   "cell_type": "markdown",
   "id": "f686b61d",
   "metadata": {},
   "source": [
    "### Initialize train dataloader"
   ]
  },
  {
   "cell_type": "code",
   "execution_count": 9,
   "id": "d138b71e",
   "metadata": {},
   "outputs": [],
   "source": [
    "TRAIN_IMAGES_DIR = 'datasets/diabetic_retinopathy_images/images/training_images'\n",
    "TRAIN_LABELS_DIR = 'datasets/diabetic_retinopathy_images/groundtruths/training_labels.csv'\n",
    "\n",
    "train_dataset = DRDataset(\n",
    "        img_dir=TRAIN_IMAGES_DIR,\n",
    "        csv_file=TRAIN_LABELS_DIR,\n",
    "        transform=train_transform\n",
    "    )"
   ]
  },
  {
   "cell_type": "code",
   "execution_count": 10,
   "id": "4ace0388",
   "metadata": {},
   "outputs": [],
   "source": [
    "train_dataloader = DataLoader(train_dataset, \n",
    "                             batch_size=16, \n",
    "                             shuffle=True)"
   ]
  },
  {
   "cell_type": "code",
   "execution_count": 11,
   "id": "b33dca0b",
   "metadata": {},
   "outputs": [
    {
     "data": {
      "image/png": "[encoded data removed]",
      "text/plain": [
       "<Figure size 640x480 with 1 Axes>"
      ]
     },
     "metadata": {},
     "output_type": "display_data"
    },
    {
     "name": "stdout",
     "output_type": "stream",
     "text": [
      "  0.0   0.0   1.0   1.0   1.0   1.0   1.0   1.0   1.0   1.0   0.0   1.0   1.0   0.0   0.0   1.0\n"
     ]
    }
   ],
   "source": [
    "def imshow(img):\n",
    "    img = img / 2 + 0.5  # Unnormalize\n",
    "    npimg = img.numpy()\n",
    "    plt.imshow(np.transpose(npimg, (1, 2, 0)))\n",
    "    plt.show()\n",
    "\n",
    "# Get a batch of training data\n",
    "dataiter = iter(train_dataloader)\n",
    "images, labels = next(dataiter)\n",
    "batch_size = 16\n",
    "\n",
    "# Show images\n",
    "imshow(torchvision.utils.make_grid(images))\n",
    "# Print labels\n",
    "print(' '.join('%5s' % labels[j].item() for j in range(batch_size)))"
   ]
  },
  {
   "cell_type": "markdown",
   "id": "8ceb8cd6",
   "metadata": {},
   "source": [
    "### Initialize test dataloader"
   ]
  },
  {
   "cell_type": "code",
   "execution_count": 12,
   "id": "d48ec920",
   "metadata": {},
   "outputs": [],
   "source": [
    "TEST_IMAGES_DIR = 'datasets/diabetic_retinopathy_images/images/testing_images'\n",
    "TEST_LABELS_DIR = 'datasets/diabetic_retinopathy_images/groundtruths/testing_labels.csv'\n",
    "\n",
    "test_dataset = DRDataset(\n",
    "        img_dir=TEST_IMAGES_DIR,\n",
    "        csv_file=TEST_LABELS_DIR,\n",
    "        transform=test_transform\n",
    "    )"
   ]
  },
  {
   "cell_type": "code",
   "execution_count": 13,
   "id": "00a412c6",
   "metadata": {},
   "outputs": [],
   "source": [
    "test_dataloader = DataLoader(test_dataset, \n",
    "                             batch_size=32, \n",
    "                             shuffle=True)"
   ]
  },
  {
   "cell_type": "markdown",
   "id": "0a663962",
   "metadata": {},
   "source": [
    "## Image Classification Model - Convolutional Neural Network (CNN)"
   ]
  },
  {
   "cell_type": "markdown",
   "id": "795cf1cb",
   "metadata": {},
   "source": [
    "### Build the Neural Network Architecture"
   ]
  },
  {
   "cell_type": "code",
   "execution_count": 16,
   "id": "f088bdb4",
   "metadata": {},
   "outputs": [],
   "source": [
    "torch.manual_seed(42)\n",
    "\n",
    "class BinaryClassifierCNN(nn.Module):\n",
    "    def __init__(self):\n",
    "        super(BinaryClassifierCNN, self).__init__()\n",
    "        self.conv_layers = nn.Sequential(\n",
    "            # Conv Layer 1: Input 3 channels (RGB), output 16 channels\n",
    "            nn.Conv2d(3, 16, kernel_size=3, stride=1, padding=1),\n",
    "            nn.ReLU(),\n",
    "            nn.MaxPool2d(kernel_size=2, stride=2),  # 224x224 -> 112x112\n",
    "            \n",
    "            # Conv Layer 2: Input 16, output 32\n",
    "            nn.Conv2d(16, 32, kernel_size=3, stride=1, padding=1),\n",
    "            nn.ReLU(),\n",
    "            nn.MaxPool2d(kernel_size=2, stride=2),  # 112x112 -> 56x56\n",
    "            \n",
    "            # Conv Layer 3: Input 32, output 64\n",
    "            nn.Conv2d(32, 64, kernel_size=3, stride=1, padding=1),\n",
    "            nn.ReLU(),\n",
    "            nn.MaxPool2d(kernel_size=2, stride=2)   # 56x56 -> 28x28\n",
    "        )\n",
    "        \n",
    "        self.fc_layers = nn.Sequential(\n",
    "            nn.Flatten(),\n",
    "            nn.Linear(64 * 28 * 28, 128),  # Adjust based on input image size\n",
    "            nn.ReLU(),\n",
    "            nn.Dropout(0.2),  # Regularization to prevent overfitting\n",
    "            nn.Linear(128, 1)  # Output: single logit for binary classification\n",
    "        )\n",
    "    \n",
    "    def forward(self, x):\n",
    "        x = self.conv_layers(x)\n",
    "        x = self.fc_layers(x)\n",
    "        x = torch.sigmoid(x).squeeze(1) # Apply sigmoid and squeeze: [batch_size, 1] -> [batch_size]\n",
    "        return x"
   ]
  },
  {
   "cell_type": "code",
   "execution_count": 17,
   "id": "5b29df4f",
   "metadata": {},
   "outputs": [],
   "source": [
    "model = BinaryClassifierCNN()"
   ]
  },
  {
   "cell_type": "code",
   "execution_count": 18,
   "id": "dcc22e11",
   "metadata": {},
   "outputs": [
    {
     "name": "stdout",
     "output_type": "stream",
     "text": [
      "cpu\n"
     ]
    }
   ],
   "source": [
    "device = torch.device('cuda' if torch.cuda.is_available() else 'cpu')\n",
    "model.to(device)\n",
    "print(device)"
   ]
  },
  {
   "cell_type": "code",
   "execution_count": 19,
   "id": "dee31404",
   "metadata": {},
   "outputs": [],
   "source": [
    "weight = torch.tensor([279/134]).to(device)  \n",
    "criterion = nn.BCELoss(weight=weight)\n",
    "optimizer = optim.Adam(model.parameters(), lr=0.0005)"
   ]
  },
  {
   "cell_type": "markdown",
   "id": "5c4e60da",
   "metadata": {},
   "source": [
    "### Training Loop"
   ]
  },
  {
   "cell_type": "code",
   "execution_count": 20,
   "id": "8e830060",
   "metadata": {},
   "outputs": [
    {
     "name": "stdout",
     "output_type": "stream",
     "text": [
      "Epoch [1/10]: Training Loss: 1.3285\n",
      "Epoch [2/10]: Training Loss: 1.2990\n",
      "Epoch [3/10]: Training Loss: 1.2372\n",
      "Epoch [4/10]: Training Loss: 1.2168\n",
      "Epoch [5/10]: Training Loss: 1.2148\n",
      "Epoch [6/10]: Training Loss: 1.1752\n",
      "Epoch [7/10]: Training Loss: 1.1012\n",
      "Epoch [8/10]: Training Loss: 1.0739\n",
      "Epoch [9/10]: Training Loss: 1.1188\n",
      "Epoch [10/10]: Training Loss: 1.0814\n"
     ]
    }
   ],
   "source": [
    "num_epochs = 10\n",
    "for epoch in range(num_epochs):\n",
    "    total_train_loss = 0\n",
    "\n",
    "    model.train()\n",
    "    for images, labels in train_dataloader:\n",
    "        images, labels = images.to(device), labels.to(device)\n",
    "        optimizer.zero_grad()\n",
    "        outputs = model(images)\n",
    "        loss = criterion(outputs, labels)\n",
    "        loss.backward()\n",
    "        optimizer.step()\n",
    "        total_train_loss += loss.item()\n",
    "\n",
    "    # Calculate average loss\n",
    "    avg_train_loss = total_train_loss / len(train_dataloader)\n",
    "    \n",
    "    # Print training losses\n",
    "    print(f\"Epoch [{epoch+1}/{num_epochs}]: Training Loss: {avg_train_loss:.4f}\")"
   ]
  },
  {
   "cell_type": "markdown",
   "id": "ad50b215",
   "metadata": {},
   "source": [
    "### Testing Set Evaluation"
   ]
  },
  {
   "cell_type": "code",
   "execution_count": 21,
   "id": "50852d93",
   "metadata": {},
   "outputs": [
    {
     "name": "stdout",
     "output_type": "stream",
     "text": [
      "Classification Report:\n",
      "               precision    recall  f1-score   support\n",
      "\n",
      "       No DR       0.40      0.18      0.24        34\n",
      "          DR       0.68      0.87      0.76        69\n",
      "\n",
      "    accuracy                           0.64       103\n",
      "   macro avg       0.54      0.52      0.50       103\n",
      "weighted avg       0.59      0.64      0.59       103\n",
      "\n"
     ]
    }
   ],
   "source": [
    "test_pred_labels = []\n",
    "\n",
    "with torch.no_grad():\n",
    "    for images, labels in test_dataloader:\n",
    "        images, labels = images.to(device), labels.to(device)\n",
    "\n",
    "        # Get model outputs (already has sigmoid activation)\n",
    "        outputs = model(images)\n",
    "        \n",
    "        # Get predicted labels (threshold at 0.5)\n",
    "        pred_labels = torch.round(outputs)\n",
    "        test_pred_labels.extend(pred_labels.cpu().numpy())\n",
    "\n",
    "# Convert to numpy arrays for easier handling\n",
    "test_pred_labels = np.array(test_pred_labels)\n",
    "\n",
    "test_true_labels = []\n",
    "for _, labels in test_dataloader:\n",
    "    test_true_labels.extend(labels.numpy())\n",
    "\n",
    "dr_classes = ['No DR', 'DR']\n",
    "report = classification_report(y_true=test_true_labels, \n",
    "                               y_pred=test_pred_labels,\n",
    "                               target_names=dr_classes)\n",
    "\n",
    "print(\"Classification Report:\\n\", report)"
   ]
  },
  {
   "cell_type": "markdown",
   "id": "4b1be1a4",
   "metadata": {},
   "source": [
    "### Key Insights"
   ]
  },
  {
   "cell_type": "markdown",
   "id": "466c96b6",
   "metadata": {},
   "source": [
    "The simple CNN for detecting diabetic retinopathy achieved an overall accuracy of 64%. This means that the model correctly predicted 64% of all images in the testing set, which can be considered modest, but there is certainly room for improvement."
   ]
  },
  {
   "cell_type": "markdown",
   "id": "a2a80295",
   "metadata": {},
   "source": [
    "#### Class 0 - No DR"
   ]
  },
  {
   "cell_type": "markdown",
   "id": "65b26458",
   "metadata": {},
   "source": [
    "- A precision of 0.40 means that when the CNN predicted a patient did not have DR, it was only correct 40% of the time\n",
    "- A recall of 0.18 means that the CNN correctly identified only 18% of patients without DR\n",
    "- An F1-score of 0.24 suggests a poor balance between the precision and recall score for class 0"
   ]
  },
  {
   "cell_type": "markdown",
   "id": "9dcfd8f3",
   "metadata": {},
   "source": [
    "#### Class 1 - DR"
   ]
  },
  {
   "cell_type": "markdown",
   "id": "32f6282d",
   "metadata": {},
   "source": [
    "- A precision of 0.68 means that when the CNN predicted a patient with DR, it was correct 68% of the time\n",
    "- A recall of 0.87 means that the CNN correctly identified 87% of patients with DR\n",
    "- An F1-score of 0.76 suggests a decent balance between recall and precision for class 1"
   ]
  },
  {
   "cell_type": "markdown",
   "id": "9f8c27ab",
   "metadata": {},
   "source": [
    "## Conclusion"
   ]
  },
  {
   "cell_type": "markdown",
   "id": "38f9f814",
   "metadata": {},
   "source": [
    "In conclusion, in this project, the simple CNN Neural Network model was implemented, trained for task image binary classification. The model gave moderate results, though medical specificity considers the better result for Class 1, because it is worse to miss a disease than to misclassify its existence.<br>\n",
    "Obviously, there is room for improvement via using vision transformerms which are not covered in this project."
   ]
  }
 ],
 "metadata": {
  "kernelspec": {
   "display_name": "base",
   "language": "python",
   "name": "python3"
  },
  "language_info": {
   "codemirror_mode": {
    "name": "ipython",
    "version": 3
   },
   "file_extension": ".py",
   "mimetype": "text/x-python",
   "name": "python",
   "nbconvert_exporter": "python",
   "pygments_lexer": "ipython3",
   "version": "3.11.7"
  }
 },
 "nbformat": 4,
 "nbformat_minor": 5
}
