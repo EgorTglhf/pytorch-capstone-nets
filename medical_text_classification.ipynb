{
 "cells": [
  {
   "cell_type": "markdown",
   "id": "54579200",
   "metadata": {},
   "source": [
    "# Classifying Medical Text"
   ]
  },
  {
   "cell_type": "markdown",
   "id": "112b86b6",
   "metadata": {},
   "source": [
    "## Preparations"
   ]
  },
  {
   "cell_type": "markdown",
   "id": "66563c5b",
   "metadata": {},
   "source": [
    "### Import libraries"
   ]
  },
  {
   "cell_type": "code",
   "execution_count": 2,
   "id": "a53053ba",
   "metadata": {},
   "outputs": [],
   "source": [
    "import numpy as np\n",
    "import pandas as pd\n",
    "\n",
    "import torch\n",
    "import torch.nn as nn\n",
    "import torch.optim as optim\n",
    "from torch.utils.data import DataLoader, TensorDataset\n",
    "import torch.nn.functional as F\n",
    "\n",
    "from sklearn.model_selection import train_test_split\n",
    "from sklearn.metrics import confusion_matrix, classification_report\n",
    "\n",
    "import matplotlib.pyplot as plt\n",
    "import seaborn as sns\n",
    "\n",
    "import re\n",
    "from collections import Counter\n",
    "\n",
    "from transformers import AutoTokenizer, AutoModelForSequenceClassification"
   ]
  },
  {
   "cell_type": "markdown",
   "id": "37f2345e",
   "metadata": {},
   "source": [
    "### Download dataset"
   ]
  },
  {
   "cell_type": "code",
   "execution_count": 3,
   "id": "91e24c51",
   "metadata": {},
   "outputs": [
    {
     "data": {
      "application/vnd.microsoft.datawrangler.viewer.v0+json": {
       "columns": [
        {
         "name": "index",
         "rawType": "int64",
         "type": "integer"
        },
        {
         "name": "question",
         "rawType": "object",
         "type": "string"
        },
        {
         "name": "answer",
         "rawType": "object",
         "type": "string"
        },
        {
         "name": "source",
         "rawType": "object",
         "type": "string"
        },
        {
         "name": "focus_area",
         "rawType": "object",
         "type": "string"
        }
       ],
       "ref": "9a51b0b4-c171-4803-b8de-79c3ae74fb84",
       "rows": [
        [
         "0",
         "What is (are) Glaucoma ?",
         "Glaucoma is a group of diseases that can damage the eye's optic nerve and result in vision loss and blindness. While glaucoma can strike anyone, the risk is much greater for people over 60. How Glaucoma Develops  There are several different types of glaucoma. Most of these involve the drainage system within the eye. At the front of the eye there is a small space called the anterior chamber. A clear fluid flows through this chamber and bathes and nourishes the nearby tissues. (Watch the video to learn more about glaucoma. To enlarge the video, click the brackets in the lower right-hand corner. To reduce the video, press the Escape (Esc) button on your keyboard.) In glaucoma, for still unknown reasons, the fluid drains too slowly out of the eye. As the fluid builds up, the pressure inside the eye rises. Unless this pressure is controlled, it may cause damage to the optic nerve and other parts of the eye and result in loss of vision. Open-angle Glaucoma The most common type of glaucoma is called open-angle glaucoma. In the normal eye, the clear fluid leaves the anterior chamber at the open angle where the cornea and iris meet. When fluid reaches the angle, it flows through a spongy meshwork, like a drain, and leaves the eye. Sometimes, when the fluid reaches the angle, it passes too slowly through the meshwork drain, causing the pressure inside the eye to build. If the pressure damages the optic nerve, open-angle glaucoma -- and vision loss -- may result. There is no cure for glaucoma. Vision lost from the disease cannot be restored. However, there are treatments that may save remaining vision. That is why early diagnosis is important.  See this graphic for a quick overview of glaucoma,  including how many people it affects, whos at risk, what to do if you have it, and how to learn more.  See a glossary of glaucoma terms.",
         "NIHSeniorHealth",
         "Glaucoma"
        ],
        [
         "1",
         "What causes Glaucoma ?",
         "Nearly 2.7 million people have glaucoma, a leading cause of blindness in the United States. Although anyone can get glaucoma, some people are at higher risk. They include - African-Americans over age 40  - everyone over age 60, especially Hispanics/Latinos  - people with a family history of glaucoma. African-Americans over age 40 everyone over age 60, especially Hispanics/Latinos people with a family history of glaucoma.  In addition to age, eye pressure is a risk factor. Whether you develop glaucoma depends on the level of pressure your optic nerve can tolerate without being damaged. This level is different for each person. Thats why a comprehensive dilated eye exam is very important. It can help your eye care professional determine what level of eye pressure is normal for you. Another risk factor for optic nerve damage relates to blood pressure. Thus, it is important to also make sure that your blood pressure is at a proper level for your body by working with your medical doctor. (Watch the animated video to learn more about the causes of glaucoma. To enlarge the video, click the brackets in the lower right-hand corner. To reduce the video, press the Escape (Esc) button on your keyboard.)",
         "NIHSeniorHealth",
         "Glaucoma"
        ],
        [
         "2",
         "What are the symptoms of Glaucoma ?",
         "Symptoms of Glaucoma  Glaucoma can develop in one or both eyes. The most common type of glaucoma, open-angle glaucoma, has no symptoms at first. It causes no pain, and vision seems normal. Without treatment, people with glaucoma will slowly lose their peripheral, or side vision. They seem to be looking through a tunnel. Over time, straight-ahead vision may decrease until no vision remains. Tests for Glaucoma Glaucoma is detected through a comprehensive eye exam that includes a visual acuity test, visual field test, dilated eye exam, tonometry, and pachymetry. (Watch the animated video to learn more about testing for glaucoma. To enlarge the video, click the brackets in the lower right-hand corner. To reduce the video, press the Escape (Esc) button on your keyboard.)  A visual acuity test uses an eye chart test to measure how well you see at various distances. A visual field test measures your side or peripheral vision. It helps your eye care professional tell if you have lost side vision, a sign of glaucoma. In a dilated eye exam, drops are placed in your eyes to widen, or dilate, the pupils. Your eye care professional uses a special magnifying lens to examine your retina and optic nerve for signs of damage and other eye problems. After the exam, your close-up vision may remain blurred for several hours. In tonometry, an instrument measures the pressure inside the eye. Numbing drops may be applied to your eye for this test. With pachymetry,  a numbing drop is applied to your eye. Your eye care professional uses an ultrasonic wave instrument to measure the thickness of your cornea.",
         "NIHSeniorHealth",
         "Glaucoma"
        ],
        [
         "3",
         "What are the treatments for Glaucoma ?",
         "Although open-angle glaucoma cannot be cured, it can usually be controlled. While treatments may save remaining vision, they do not improve sight already lost from glaucoma. The most common treatments for glaucoma are medication and surgery. Medications  Medications for glaucoma may be either in the form of eye drops or pills. Some drugs reduce pressure by slowing the flow of fluid into the eye. Others help to improve fluid drainage. (Watch the video to learn more about coping with glaucoma. To enlarge the video, click the brackets in the lower right-hand corner. To reduce the video, press the Escape (Esc) button on your keyboard.) For most people with glaucoma, regular use of medications will control the increased fluid pressure. But, these drugs may stop working over time. Or, they may cause side effects. If a problem occurs, the eye care professional may select other drugs, change the dose, or suggest other ways to deal with the problem.  Read or listen to ways some patients are coping with glaucoma. Surgery Laser surgery is another treatment for glaucoma. During laser surgery, a strong beam of light is focused on the part of the anterior chamber where the fluid leaves the eye. This results in a series of small changes that makes it easier for fluid to exit the eye. Over time, the effect of laser surgery may wear off. Patients who have this form of surgery may need to keep taking glaucoma drugs. Researching Causes and Treatments Through studies in the laboratory and with patients, NEI is seeking better ways to detect, treat, and prevent vision loss in people with glaucoma. For example, researchers have discovered genes that could help explain how glaucoma damages the eye. NEI also is supporting studies to learn more about who is likely to get glaucoma, when to treat people who have increased eye pressure, and which treatment to use first.",
         "NIHSeniorHealth",
         "Glaucoma"
        ],
        [
         "4",
         "What is (are) Glaucoma ?",
         "Glaucoma is a group of diseases that can damage the eye's optic nerve and result in vision loss and blindness. The most common form of the disease is open-angle glaucoma. With early treatment, you can often protect your eyes against serious vision loss. (Watch the video to learn more about glaucoma. To enlarge the video, click the brackets in the lower right-hand corner. To reduce the video, press the Escape (Esc) button on your keyboard.)  See this graphic for a quick overview of glaucoma, including how many people it affects, whos at risk, what to do if you have it, and how to learn more.  See a glossary of glaucoma terms.",
         "NIHSeniorHealth",
         "Glaucoma"
        ]
       ],
       "shape": {
        "columns": 4,
        "rows": 5
       }
      },
      "text/html": [
       "<div>\n",
       "<style scoped>\n",
       "    .dataframe tbody tr th:only-of-type {\n",
       "        vertical-align: middle;\n",
       "    }\n",
       "\n",
       "    .dataframe tbody tr th {\n",
       "        vertical-align: top;\n",
       "    }\n",
       "\n",
       "    .dataframe thead th {\n",
       "        text-align: right;\n",
       "    }\n",
       "</style>\n",
       "<table border=\"1\" class=\"dataframe\">\n",
       "  <thead>\n",
       "    <tr style=\"text-align: right;\">\n",
       "      <th></th>\n",
       "      <th>question</th>\n",
       "      <th>answer</th>\n",
       "      <th>source</th>\n",
       "      <th>focus_area</th>\n",
       "    </tr>\n",
       "  </thead>\n",
       "  <tbody>\n",
       "    <tr>\n",
       "      <th>0</th>\n",
       "      <td>What is (are) Glaucoma ?</td>\n",
       "      <td>Glaucoma is a group of diseases that can damag...</td>\n",
       "      <td>NIHSeniorHealth</td>\n",
       "      <td>Glaucoma</td>\n",
       "    </tr>\n",
       "    <tr>\n",
       "      <th>1</th>\n",
       "      <td>What causes Glaucoma ?</td>\n",
       "      <td>Nearly 2.7 million people have glaucoma, a lea...</td>\n",
       "      <td>NIHSeniorHealth</td>\n",
       "      <td>Glaucoma</td>\n",
       "    </tr>\n",
       "    <tr>\n",
       "      <th>2</th>\n",
       "      <td>What are the symptoms of Glaucoma ?</td>\n",
       "      <td>Symptoms of Glaucoma  Glaucoma can develop in ...</td>\n",
       "      <td>NIHSeniorHealth</td>\n",
       "      <td>Glaucoma</td>\n",
       "    </tr>\n",
       "    <tr>\n",
       "      <th>3</th>\n",
       "      <td>What are the treatments for Glaucoma ?</td>\n",
       "      <td>Although open-angle glaucoma cannot be cured, ...</td>\n",
       "      <td>NIHSeniorHealth</td>\n",
       "      <td>Glaucoma</td>\n",
       "    </tr>\n",
       "    <tr>\n",
       "      <th>4</th>\n",
       "      <td>What is (are) Glaucoma ?</td>\n",
       "      <td>Glaucoma is a group of diseases that can damag...</td>\n",
       "      <td>NIHSeniorHealth</td>\n",
       "      <td>Glaucoma</td>\n",
       "    </tr>\n",
       "  </tbody>\n",
       "</table>\n",
       "</div>"
      ],
      "text/plain": [
       "                                 question  \\\n",
       "0                What is (are) Glaucoma ?   \n",
       "1                  What causes Glaucoma ?   \n",
       "2     What are the symptoms of Glaucoma ?   \n",
       "3  What are the treatments for Glaucoma ?   \n",
       "4                What is (are) Glaucoma ?   \n",
       "\n",
       "                                              answer           source  \\\n",
       "0  Glaucoma is a group of diseases that can damag...  NIHSeniorHealth   \n",
       "1  Nearly 2.7 million people have glaucoma, a lea...  NIHSeniorHealth   \n",
       "2  Symptoms of Glaucoma  Glaucoma can develop in ...  NIHSeniorHealth   \n",
       "3  Although open-angle glaucoma cannot be cured, ...  NIHSeniorHealth   \n",
       "4  Glaucoma is a group of diseases that can damag...  NIHSeniorHealth   \n",
       "\n",
       "  focus_area  \n",
       "0   Glaucoma  \n",
       "1   Glaucoma  \n",
       "2   Glaucoma  \n",
       "3   Glaucoma  \n",
       "4   Glaucoma  "
      ]
     },
     "execution_count": 3,
     "metadata": {},
     "output_type": "execute_result"
    }
   ],
   "source": [
    "medquad_df = pd.read_csv('datasets/medquad.csv')\n",
    "medquad_df.head()"
   ]
  },
  {
   "cell_type": "code",
   "execution_count": 4,
   "id": "d3f4be1f",
   "metadata": {},
   "outputs": [
    {
     "name": "stdout",
     "output_type": "stream",
     "text": [
      "<class 'pandas.core.frame.DataFrame'>\n",
      "RangeIndex: 16412 entries, 0 to 16411\n",
      "Data columns (total 4 columns):\n",
      " #   Column      Non-Null Count  Dtype \n",
      "---  ------      --------------  ----- \n",
      " 0   question    16412 non-null  object\n",
      " 1   answer      16407 non-null  object\n",
      " 2   source      16412 non-null  object\n",
      " 3   focus_area  16398 non-null  object\n",
      "dtypes: object(4)\n",
      "memory usage: 513.0+ KB\n"
     ]
    }
   ],
   "source": [
    "medquad_df.info()"
   ]
  },
  {
   "cell_type": "code",
   "execution_count": 5,
   "id": "aebf5ed0",
   "metadata": {},
   "outputs": [
    {
     "data": {
      "text/plain": [
       "5126"
      ]
     },
     "execution_count": 5,
     "metadata": {},
     "output_type": "execute_result"
    }
   ],
   "source": [
    "medquad_df['focus_area'].nunique()"
   ]
  },
  {
   "cell_type": "code",
   "execution_count": 6,
   "id": "10d554f0",
   "metadata": {},
   "outputs": [
    {
     "data": {
      "application/vnd.microsoft.datawrangler.viewer.v0+json": {
       "columns": [
        {
         "name": "focus_area",
         "rawType": "object",
         "type": "string"
        },
        {
         "name": "count",
         "rawType": "int64",
         "type": "integer"
        }
       ],
       "ref": "dde5ce57-c102-49bf-a091-e9c3ddb8c6a5",
       "rows": [
        [
         "Breast Cancer",
         "53"
        ],
        [
         "Prostate Cancer",
         "43"
        ],
        [
         "Stroke",
         "35"
        ],
        [
         "Skin Cancer",
         "34"
        ],
        [
         "Alzheimer's Disease",
         "30"
        ],
        [
         "Colorectal Cancer",
         "29"
        ],
        [
         "Lung Cancer",
         "29"
        ],
        [
         "Causes of Diabetes",
         "28"
        ],
        [
         "Heart Failure",
         "28"
        ],
        [
         "High Blood Cholesterol",
         "28"
        ],
        [
         "Heart Attack",
         "28"
        ],
        [
         "High Blood Pressure",
         "27"
        ],
        [
         "Parkinson's Disease",
         "25"
        ],
        [
         "Leukemia",
         "22"
        ],
        [
         "Shingles",
         "21"
        ],
        [
         "Osteoporosis",
         "21"
        ],
        [
         "Age-related Macular Degeneration",
         "20"
        ],
        [
         "Diabetes",
         "20"
        ],
        [
         "Hemochromatosis",
         "20"
        ],
        [
         "Diabetic Retinopathy",
         "19"
        ],
        [
         "Psoriasis",
         "19"
        ],
        [
         "Gum (Periodontal) Disease",
         "19"
        ],
        [
         "Kidney Disease",
         "17"
        ],
        [
         "Dry Mouth",
         "16"
        ],
        [
         "Balance Problems",
         "16"
        ]
       ],
       "shape": {
        "columns": 1,
        "rows": 25
       }
      },
      "text/plain": [
       "focus_area\n",
       "Breast Cancer                       53\n",
       "Prostate Cancer                     43\n",
       "Stroke                              35\n",
       "Skin Cancer                         34\n",
       "Alzheimer's Disease                 30\n",
       "Colorectal Cancer                   29\n",
       "Lung Cancer                         29\n",
       "Causes of Diabetes                  28\n",
       "Heart Failure                       28\n",
       "High Blood Cholesterol              28\n",
       "Heart Attack                        28\n",
       "High Blood Pressure                 27\n",
       "Parkinson's Disease                 25\n",
       "Leukemia                            22\n",
       "Shingles                            21\n",
       "Osteoporosis                        21\n",
       "Age-related Macular Degeneration    20\n",
       "Diabetes                            20\n",
       "Hemochromatosis                     20\n",
       "Diabetic Retinopathy                19\n",
       "Psoriasis                           19\n",
       "Gum (Periodontal) Disease           19\n",
       "Kidney Disease                      17\n",
       "Dry Mouth                           16\n",
       "Balance Problems                    16\n",
       "Name: count, dtype: int64"
      ]
     },
     "execution_count": 6,
     "metadata": {},
     "output_type": "execute_result"
    }
   ],
   "source": [
    "medquad_df['focus_area'].value_counts()[:25]"
   ]
  },
  {
   "cell_type": "markdown",
   "id": "edcabd15",
   "metadata": {},
   "source": [
    "### Data Cleaning and Preparation"
   ]
  },
  {
   "cell_type": "markdown",
   "id": "505b6717",
   "metadata": {},
   "source": [
    "#### Decrease Target Classes Amount"
   ]
  },
  {
   "cell_type": "markdown",
   "id": "48897215",
   "metadata": {},
   "source": [
    "We group the top 25 most common focus areas into 5 groups to not classify 5126 classes."
   ]
  },
  {
   "cell_type": "code",
   "execution_count": 7,
   "id": "69b2d7ca",
   "metadata": {},
   "outputs": [
    {
     "name": "stdout",
     "output_type": "stream",
     "text": [
      "Number of unique focus groups: 5\n"
     ]
    }
   ],
   "source": [
    "# Group the top 25 most common focus areas into 5 broader categories (focus groups)\n",
    "focus_area_map = {\n",
    "    'Cancers': ['Breast Cancer', 'Prostate Cancer', 'Skin Cancer', \n",
    "                'Colorectal Cancer', 'Lung Cancer', 'Leukemia'],\n",
    "    \n",
    "    'Cardiovascular Diseases': ['Stroke', 'Heart Failure', 'Heart Attack',\n",
    "                                'High Blood Cholesterol', 'High Blood Pressure'],\n",
    "    \n",
    "    'Metabolic & Endocrine Disorders': ['Causes of Diabetes', 'Diabetes', 'Diabetic Retinopathy',\n",
    "                                        'Hemochromatosis', 'Kidney Disease'],\n",
    "    \n",
    "    'Neurological & Cognitive Disorders': ['Alzheimer\\'s Disease', 'Parkinson\\'s Disease', 'Balance Problems'],\n",
    "    \n",
    "    'Other Age-Related & Immune Disorders': ['Shingles', 'Osteoporosis', 'Age-related Macular Degeneration',\n",
    "                                             'Psoriasis', 'Gum (Periodontal) Disease', 'Dry Mouth']\n",
    "}\n",
    "\n",
    "# Create reverse mapping\n",
    "condition_to_focus_area = {\n",
    "    condition: focus_area\n",
    "    for focus_area, conditions in focus_area_map.items()\n",
    "    for condition in conditions\n",
    "}\n",
    "\n",
    "# Create new column `focus_group` containing focus group\n",
    "medquad_df['focus_group'] = medquad_df['focus_area'].map(condition_to_focus_area)\n",
    "\n",
    "# Verify the number of unique focus groups\n",
    "n_focus_groups = medquad_df['focus_group'].nunique()\n",
    "print(\"Number of unique focus groups:\", n_focus_groups)"
   ]
  },
  {
   "cell_type": "code",
   "execution_count": 8,
   "id": "299f7c5d",
   "metadata": {},
   "outputs": [
    {
     "name": "stdout",
     "output_type": "stream",
     "text": [
      "Shape before dropping: (16412, 5)\n",
      "Shape after dropping: (647, 5)\n"
     ]
    }
   ],
   "source": [
    "# Drops missing values including those without a focus group\n",
    "print(\"Shape before dropping:\", medquad_df.shape)\n",
    "medquad_df = medquad_df.dropna()\n",
    "print(\"Shape after dropping:\", medquad_df.shape)"
   ]
  },
  {
   "cell_type": "code",
   "execution_count": 9,
   "id": "43bc5a1b",
   "metadata": {},
   "outputs": [
    {
     "name": "stdout",
     "output_type": "stream",
     "text": [
      "focus_group\n",
      "Cancers                                 210\n",
      "Cardiovascular Diseases                 146\n",
      "Other Age-Related & Immune Disorders    116\n",
      "Metabolic & Endocrine Disorders         104\n",
      "Neurological & Cognitive Disorders       71\n",
      "Name: count, dtype: int64\n",
      "focus_group\n",
      "Cancers                                 0.324575\n",
      "Cardiovascular Diseases                 0.225657\n",
      "Other Age-Related & Immune Disorders    0.179289\n",
      "Metabolic & Endocrine Disorders         0.160742\n",
      "Neurological & Cognitive Disorders      0.109737\n",
      "Name: proportion, dtype: float64\n"
     ]
    }
   ],
   "source": [
    "# Number of different groups\n",
    "print(medquad_df['focus_group'].value_counts(0))\n",
    "\n",
    "# Percentage of different groups\n",
    "print(medquad_df['focus_group'].value_counts(1))"
   ]
  },
  {
   "cell_type": "markdown",
   "id": "5f8f865a",
   "metadata": {},
   "source": [
    "#### Analysing Training Texts"
   ]
  },
  {
   "cell_type": "markdown",
   "id": "a0a32ddc",
   "metadata": {},
   "source": [
    "We observe statistics for text lengths. "
   ]
  },
  {
   "cell_type": "code",
   "execution_count": 10,
   "id": "c9d7bf5e",
   "metadata": {},
   "outputs": [
    {
     "data": {
      "application/vnd.microsoft.datawrangler.viewer.v0+json": {
       "columns": [
        {
         "name": "index",
         "rawType": "object",
         "type": "string"
        },
        {
         "name": "answer_char_length",
         "rawType": "float64",
         "type": "float"
        },
        {
         "name": "answer_word_count",
         "rawType": "float64",
         "type": "float"
        }
       ],
       "ref": "853d3142-be18-4105-b944-fdf709a8fbb2",
       "rows": [
        [
         "count",
         "647.0",
         "647.0"
        ],
        [
         "mean",
         "2084.3956723338483",
         "330.58423493044825"
        ],
        [
         "std",
         "2736.381686614995",
         "418.234941379491"
        ],
        [
         "min",
         "87.0",
         "10.0"
        ],
        [
         "25%",
         "458.5",
         "75.0"
        ],
        [
         "50%",
         "1066.0",
         "171.0"
        ],
        [
         "75%",
         "2598.0",
         "423.5"
        ],
        [
         "max",
         "29046.0",
         "4281.0"
        ]
       ],
       "shape": {
        "columns": 2,
        "rows": 8
       }
      },
      "text/html": [
       "<div>\n",
       "<style scoped>\n",
       "    .dataframe tbody tr th:only-of-type {\n",
       "        vertical-align: middle;\n",
       "    }\n",
       "\n",
       "    .dataframe tbody tr th {\n",
       "        vertical-align: top;\n",
       "    }\n",
       "\n",
       "    .dataframe thead th {\n",
       "        text-align: right;\n",
       "    }\n",
       "</style>\n",
       "<table border=\"1\" class=\"dataframe\">\n",
       "  <thead>\n",
       "    <tr style=\"text-align: right;\">\n",
       "      <th></th>\n",
       "      <th>answer_char_length</th>\n",
       "      <th>answer_word_count</th>\n",
       "    </tr>\n",
       "  </thead>\n",
       "  <tbody>\n",
       "    <tr>\n",
       "      <th>count</th>\n",
       "      <td>647.000000</td>\n",
       "      <td>647.000000</td>\n",
       "    </tr>\n",
       "    <tr>\n",
       "      <th>mean</th>\n",
       "      <td>2084.395672</td>\n",
       "      <td>330.584235</td>\n",
       "    </tr>\n",
       "    <tr>\n",
       "      <th>std</th>\n",
       "      <td>2736.381687</td>\n",
       "      <td>418.234941</td>\n",
       "    </tr>\n",
       "    <tr>\n",
       "      <th>min</th>\n",
       "      <td>87.000000</td>\n",
       "      <td>10.000000</td>\n",
       "    </tr>\n",
       "    <tr>\n",
       "      <th>25%</th>\n",
       "      <td>458.500000</td>\n",
       "      <td>75.000000</td>\n",
       "    </tr>\n",
       "    <tr>\n",
       "      <th>50%</th>\n",
       "      <td>1066.000000</td>\n",
       "      <td>171.000000</td>\n",
       "    </tr>\n",
       "    <tr>\n",
       "      <th>75%</th>\n",
       "      <td>2598.000000</td>\n",
       "      <td>423.500000</td>\n",
       "    </tr>\n",
       "    <tr>\n",
       "      <th>max</th>\n",
       "      <td>29046.000000</td>\n",
       "      <td>4281.000000</td>\n",
       "    </tr>\n",
       "  </tbody>\n",
       "</table>\n",
       "</div>"
      ],
      "text/plain": [
       "       answer_char_length  answer_word_count\n",
       "count          647.000000         647.000000\n",
       "mean          2084.395672         330.584235\n",
       "std           2736.381687         418.234941\n",
       "min             87.000000          10.000000\n",
       "25%            458.500000          75.000000\n",
       "50%           1066.000000         171.000000\n",
       "75%           2598.000000         423.500000\n",
       "max          29046.000000        4281.000000"
      ]
     },
     "execution_count": 10,
     "metadata": {},
     "output_type": "execute_result"
    }
   ],
   "source": [
    "# Character lengths\n",
    "medquad_df['answer_char_length'] = medquad_df['answer'].astype(str).apply(len)\n",
    "# Word lengths\n",
    "medquad_df['answer_word_count'] = medquad_df['answer'].astype(str).apply(lambda x: len(x.split()))\n",
    "\n",
    "# Calculate descriptive statistics\n",
    "answer_length_stats = medquad_df[['answer_char_length', 'answer_word_count']].describe()\n",
    "answer_length_stats"
   ]
  },
  {
   "cell_type": "code",
   "execution_count": 11,
   "id": "d89e8e10",
   "metadata": {},
   "outputs": [
    {
     "data": {
      "image/png": "[encoded data removed]",
      "text/plain": [
       "<Figure size 1600x400 with 1 Axes>"
      ]
     },
     "metadata": {},
     "output_type": "display_data"
    }
   ],
   "source": [
    "# Visualize the distribution of word counts\n",
    "plt.figure(figsize=(16, 4))\n",
    "plt.subplot(1, 2, 1)\n",
    "sns.histplot(medquad_df['answer_word_count'], kde=True, color='skyblue')\n",
    "plt.title('Distribution of Answer Word Counts', fontsize=14)\n",
    "plt.xlabel('Number of Words', fontsize=12)\n",
    "plt.ylabel('Frequency', fontsize=12)\n",
    "plt.axvline(x=answer_length_stats['answer_word_count']['mean'], \n",
    "            color='red', linestyle='--', label=f\"Mean: {answer_length_stats['answer_word_count']['mean']:.1f}\")\n",
    "plt.legend()\n",
    "plt.show()"
   ]
  },
  {
   "cell_type": "markdown",
   "id": "e1e76e96",
   "metadata": {},
   "source": [
    "Finally, we have to encode target groups."
   ]
  },
  {
   "cell_type": "code",
   "execution_count": 12,
   "id": "56c3dac3",
   "metadata": {},
   "outputs": [],
   "source": [
    "focus_map = {\"Neurological & Cognitive Disorders\":0,\n",
    "             \"Cancers\":1,\n",
    "             \"Cardiovascular Diseases\":2,\n",
    "             \"Metabolic & Endocrine Disorders\":3,\n",
    "             \"Other Age-Related & Immune Disorders\":4}\n",
    "\n",
    "medquad_df['focus_group'] = medquad_df['focus_group'].replace(focus_map)"
   ]
  },
  {
   "cell_type": "code",
   "execution_count": 13,
   "id": "559f1dab",
   "metadata": {},
   "outputs": [
    {
     "name": "stdout",
     "output_type": "stream",
     "text": [
      "Shape before duplicates: (647, 7)\n",
      "Shape after removing duplicates: (624, 7)\n"
     ]
    }
   ],
   "source": [
    "# Returns all rows that are duplicates of a previous row\n",
    "print(\"Shape before duplicates:\", medquad_df.shape)\n",
    "duplicates = medquad_df[medquad_df.duplicated(subset='answer')]\n",
    "medquad_df = medquad_df.drop_duplicates(subset='answer')\n",
    "print(\"Shape after removing duplicates:\", medquad_df.shape)"
   ]
  },
  {
   "cell_type": "markdown",
   "id": "861a91da",
   "metadata": {},
   "source": [
    "#### Split to train and test datasets"
   ]
  },
  {
   "cell_type": "code",
   "execution_count": 14,
   "id": "bc9ac823",
   "metadata": {},
   "outputs": [],
   "source": [
    "train_df, test_df = train_test_split(medquad_df,\n",
    "                                     test_size=0.2,\n",
    "                                     random_state=42,\n",
    "                                     stratify=medquad_df['focus_group'])"
   ]
  },
  {
   "cell_type": "code",
   "execution_count": 15,
   "id": "2460153e",
   "metadata": {},
   "outputs": [
    {
     "name": "stdout",
     "output_type": "stream",
     "text": [
      "Training set distribution: focus_group\n",
      "1    0.334669\n",
      "2    0.234469\n",
      "4    0.186373\n",
      "3    0.130261\n",
      "0    0.114228\n",
      "Name: proportion, dtype: float64\n",
      "Testing set distribution: focus_group\n",
      "1    0.336\n",
      "2    0.232\n",
      "4    0.184\n",
      "3    0.136\n",
      "0    0.112\n",
      "Name: proportion, dtype: float64\n"
     ]
    }
   ],
   "source": [
    "print(\"Training set distribution:\", train_df['focus_group'].value_counts(1))\n",
    "print(\"Testing set distribution:\", test_df['focus_group'].value_counts(1))"
   ]
  },
  {
   "cell_type": "markdown",
   "id": "df27ede0",
   "metadata": {},
   "source": [
    "#### Create Training Corpus"
   ]
  },
  {
   "cell_type": "code",
   "execution_count": 16,
   "id": "c57dfabf",
   "metadata": {},
   "outputs": [],
   "source": [
    "train_texts = train_df['answer'].tolist()\n",
    "train_labels = train_df['focus_group'].tolist()"
   ]
  },
  {
   "cell_type": "markdown",
   "id": "b882dee4",
   "metadata": {},
   "source": [
    "#### Tokenizing"
   ]
  },
  {
   "cell_type": "markdown",
   "id": "2d04ae31",
   "metadata": {},
   "source": [
    "Before tokenization we remove key words in the texts to prevent data leakage or, at least, to prevent aiming model to finding keywords instead of analysing entire text."
   ]
  },
  {
   "cell_type": "code",
   "execution_count": 17,
   "id": "c9acaff9",
   "metadata": {},
   "outputs": [],
   "source": [
    "remove_keywords = [\n",
    "    'Breast Cancer', 'Prostate Cancer', 'Skin Cancer',\n",
    "    'Colorectal Cancer', 'Lung Cancer', 'Leukemia', 'Stroke', 'Heart Failure', 'Heart Attack',\n",
    "    'High Blood Cholesterol', 'High Blood Pressure', 'Causes of Diabetes', 'Diabetes', 'Diabetic Retinopathy',\n",
    "    'Hemochromatosis', 'Kidney Disease', 'Alzheimer\\'s Disease', 'Parkinson\\'s Disease', 'Balance Problems',\n",
    "    'Shingles', 'Osteoporosis', 'Age-related Macular Degeneration',\n",
    "    'Psoriasis', 'Gum (Periodontal) Disease', 'Dry Mouth'\n",
    "]\n",
    "\n",
    "# Split all multi-word phrases into individual words \n",
    "# Ex. \"High Blood Cholesterol\" ==> \"High\", \"Blood\", \"Cholesterol\"\n",
    "words_to_remove = set()\n",
    "for phrase in remove_keywords:\n",
    "    for word in re.findall(r'\\b\\w+\\b', phrase):\n",
    "        words_to_remove.add(word.lower())  # lowercased for case-insensitive match\n",
    "\n",
    "# Create regex pattern to match any of the words\n",
    "pattern = re.compile(r'\\b(?:' + '|'.join(map(re.escape, words_to_remove)) + r')\\b', flags=re.IGNORECASE)\n",
    "\n",
    "# Remove individual words from each text\n",
    "masked_train_texts = [pattern.sub('', text) for text in train_texts]\n",
    "\n",
    "# Normalize whitespace\n",
    "masked_train_texts = [re.sub(r'\\s+', ' ', text).strip() for text in masked_train_texts]"
   ]
  },
  {
   "cell_type": "code",
   "execution_count": 18,
   "id": "50afd1f4",
   "metadata": {},
   "outputs": [],
   "source": [
    "def tokenize(text):\n",
    "    tokenized_text = re.findall(r'\\b\\w+\\b', text.lower())\n",
    "    return tokenized_text\n",
    "\n",
    "tokenized_training_corpus = [tokenize(focus_area_text) for focus_area_text in masked_train_texts]"
   ]
  },
  {
   "cell_type": "markdown",
   "id": "afda89dc",
   "metadata": {},
   "source": [
    "#### Create Vocabulary"
   ]
  },
  {
   "cell_type": "code",
   "execution_count": 19,
   "id": "d11d60b7",
   "metadata": {},
   "outputs": [],
   "source": [
    "combined_training_corpus = []\n",
    "for text in tokenized_training_corpus:\n",
    "    for token in text:\n",
    "        combined_training_corpus.append(token)\n",
    "\n",
    "word_freqs = Counter(combined_training_corpus)"
   ]
  },
  {
   "cell_type": "code",
   "execution_count": 20,
   "id": "be3d0cea",
   "metadata": {},
   "outputs": [
    {
     "name": "stdout",
     "output_type": "stream",
     "text": [
      "Top 10 Most Common Words:  [('the', 7750), ('to', 3886), ('and', 3786), ('a', 3469), ('in', 2694), ('or', 2666), ('is', 2301), ('are', 1643), ('for', 1537), ('your', 1523)]\n"
     ]
    }
   ],
   "source": [
    "MAX_VOCAB_SIZE = 1000\n",
    "most_common_words = word_freqs.most_common(MAX_VOCAB_SIZE)\n",
    "print(\"Top 10 Most Common Words: \", most_common_words[0:10])"
   ]
  },
  {
   "cell_type": "code",
   "execution_count": 21,
   "id": "f03f182a",
   "metadata": {},
   "outputs": [],
   "source": [
    "vocab = {word: idx + 2 for idx, (word, freq) in enumerate(most_common_words)}\n",
    "vocab['<unk>'] = 0\n",
    "vocab['<pad>'] = 1 "
   ]
  },
  {
   "cell_type": "markdown",
   "id": "cbd157e9",
   "metadata": {},
   "source": [
    "#### Encoding Text"
   ]
  },
  {
   "cell_type": "code",
   "execution_count": 22,
   "id": "edf91d33",
   "metadata": {},
   "outputs": [],
   "source": [
    "def encode_text(text, vocab):\n",
    "    tokenized_text = tokenize(text)\n",
    "    encoded_text = [vocab.get(word, vocab['<unk>']) for word in tokenized_text]\n",
    "    return encoded_text\n",
    "\n",
    "def pad_or_truncate(encoded_text, max_len):\n",
    "    if len(encoded_text) > max_len:\n",
    "        return encoded_text[:max_len]\n",
    "    else:\n",
    "        return encoded_text + [vocab['<pad>']] * (max_len - len(encoded_text)) "
   ]
  },
  {
   "cell_type": "code",
   "execution_count": 23,
   "id": "b27085ff",
   "metadata": {},
   "outputs": [],
   "source": [
    "MAX_SEQ_LENGTH = 128\n",
    "padded_train_seqs = [pad_or_truncate(encode_text(seq, vocab), max_len=MAX_SEQ_LENGTH) for seq in train_texts]"
   ]
  },
  {
   "cell_type": "markdown",
   "id": "dce70004",
   "metadata": {},
   "source": [
    "#### Convert to Tensors"
   ]
  },
  {
   "cell_type": "code",
   "execution_count": 24,
   "id": "7b76faef",
   "metadata": {},
   "outputs": [],
   "source": [
    "X_train_tensor = torch.tensor(padded_train_seqs)\n",
    "y_train_tensor = torch.tensor(train_labels, dtype=torch.long)\n",
    "\n",
    "batch_size = 16\n",
    "train_dataset = TensorDataset(X_train_tensor, y_train_tensor)\n",
    "train_dataloader = DataLoader(train_dataset, batch_size=batch_size, shuffle=True)"
   ]
  },
  {
   "cell_type": "markdown",
   "id": "e71d3278",
   "metadata": {},
   "source": [
    "## Model 1 - FeedForward NN"
   ]
  },
  {
   "cell_type": "markdown",
   "id": "e14aff04",
   "metadata": {},
   "source": [
    "### Build the Neural Network Architecture"
   ]
  },
  {
   "cell_type": "code",
   "execution_count": 25,
   "id": "6a1843c6",
   "metadata": {},
   "outputs": [],
   "source": [
    "torch.manual_seed(42)\n",
    "\n",
    "class FeedForwardNNWithEmbedding(nn.Module):\n",
    "    def __init__(self, vocab_size, embed_size, hidden_size1, hidden_size2, output_size):\n",
    "        super(FeedForwardNNWithEmbedding, self).__init__()\n",
    "        self.embedding = nn.Embedding(vocab_size, embed_size)\n",
    "\n",
    "        self.fc1 = nn.Linear(embed_size, hidden_size1)\n",
    "        self.relu1 = nn.ReLU()\n",
    "        self.dropout1 = nn.Dropout(0.3)\n",
    "\n",
    "        self.fc2 = nn.Linear(hidden_size1, hidden_size2)\n",
    "        self.relu2 = nn.ReLU()\n",
    "        self.dropout2 = nn.Dropout(0.2)\n",
    "        \n",
    "        self.output = nn.Linear(hidden_size2, output_size)\n",
    "\n",
    "    def forward(self, x):\n",
    "        x = self.embedding(x)\n",
    "        x = torch.mean(x, dim=1)\n",
    "        x = self.fc1(x)\n",
    "        x = self.relu1(x)\n",
    "        x = self.dropout1(x)\n",
    "        x = self.fc2(x)\n",
    "        x = self.relu2(x)\n",
    "        x = self.dropout2(x)\n",
    "        x = self.output(x)\n",
    "        return x\n",
    "    \n",
    "# Initialize loss function + optimizer\n",
    "vocab_size = len(vocab)\n",
    "embed_size = 50 \n",
    "hidden_size1 = 128\n",
    "hidden_size2 = 64\n",
    "output_size = n_focus_groups\n",
    "\n",
    "model = FeedForwardNNWithEmbedding(vocab_size, embed_size, hidden_size1, hidden_size2, output_size)\n",
    "criterion = nn.CrossEntropyLoss()\n",
    "optimizer = optim.Adam(model.parameters(), lr=0.0001)"
   ]
  },
  {
   "cell_type": "markdown",
   "id": "b7aa9e9a",
   "metadata": {},
   "source": [
    "### Training Loop"
   ]
  },
  {
   "cell_type": "code",
   "execution_count": 26,
   "id": "99795884",
   "metadata": {},
   "outputs": [
    {
     "name": "stdout",
     "output_type": "stream",
     "text": [
      "[Epoch 100/500], Average CE Loss: 1.0386927351\n",
      "[Epoch 200/500], Average CE Loss: 0.6570144445\n",
      "[Epoch 300/500], Average CE Loss: 0.3309075059\n",
      "[Epoch 400/500], Average CE Loss: 0.1605443320\n",
      "[Epoch 500/500], Average CE Loss: 0.0581878474\n"
     ]
    }
   ],
   "source": [
    "def train_model(model, train_loader, criterion, optimizer, num_epochs=5):\n",
    "    for epoch in range(num_epochs):\n",
    "        model.train()\n",
    "        epoch_loss = 0.0\n",
    "        for batch_X, batch_y in train_loader:\n",
    "            optimizer.zero_grad()\n",
    "            output = model(batch_X)\n",
    "            loss = criterion(output, batch_y)\n",
    "            loss.backward()\n",
    "            optimizer.step()\n",
    "            epoch_loss += loss.item()\n",
    "\n",
    "        avg_loss = epoch_loss / len(train_loader)\n",
    "        if (epoch + 1) % 100 == 0:\n",
    "            print(f\"[Epoch {epoch + 1}/{num_epochs}], Average CE Loss: {avg_loss:.10f}\")\n",
    "\n",
    "# Train the model\n",
    "train_model(model, train_dataloader, criterion, optimizer, num_epochs=500)"
   ]
  },
  {
   "cell_type": "markdown",
   "id": "1e51c882",
   "metadata": {},
   "source": [
    "### Testing Set Evaluation"
   ]
  },
  {
   "cell_type": "code",
   "execution_count": 27,
   "id": "4b0a8fca",
   "metadata": {},
   "outputs": [],
   "source": [
    "# Convert the testing texts and labels to lists\n",
    "test_texts = test_df['answer'].tolist()\n",
    "test_labels = test_df['focus_group'].tolist()\n",
    "\n",
    "# Encode and pad/truncate the testing sequences\n",
    "padded_test_seqs = [pad_or_truncate(encode_text(seq, vocab), MAX_SEQ_LENGTH) for seq in test_texts]\n",
    "\n",
    "# Convert testing sequences to tensors\n",
    "X_tensor_test = torch.tensor(padded_test_seqs)\n",
    "y_tensor_test = torch.tensor(test_labels, dtype=torch.long)\n",
    "\n",
    "# Batch the testing set\n",
    "test_dataset = TensorDataset(X_tensor_test, y_tensor_test)\n",
    "test_loader = DataLoader(test_dataset, batch_size=8, shuffle=False)"
   ]
  },
  {
   "cell_type": "code",
   "execution_count": 28,
   "id": "e26228aa",
   "metadata": {},
   "outputs": [],
   "source": [
    "def get_predictions_and_probabilities(model, test_loader):\n",
    "    model.eval()\n",
    "\n",
    "    all_probs = [] \n",
    "    all_labels = []\n",
    "\n",
    "    with torch.no_grad(): \n",
    "        for batch_X, batch_y in test_loader:\n",
    "            outputs = model(batch_X)\n",
    "            probs = F.softmax(outputs, dim=1)  \n",
    "            all_probs.extend(probs.cpu().numpy())\n",
    "            predicted_labels = torch.argmax(outputs, dim=1)\n",
    "            all_labels.extend(predicted_labels.cpu().numpy())\n",
    "\n",
    "    return all_probs, all_labels\n",
    "\n",
    "# Generate predictions\n",
    "nn_pred_probs, nn_pred_labels = get_predictions_and_probabilities(model, test_loader)"
   ]
  },
  {
   "cell_type": "code",
   "execution_count": 29,
   "id": "340d5f22",
   "metadata": {},
   "outputs": [
    {
     "name": "stdout",
     "output_type": "stream",
     "text": [
      "[[11  1  1  0  1]\n",
      " [ 1 38  0  0  3]\n",
      " [ 1  1 22  2  3]\n",
      " [ 0  0  4  9  4]\n",
      " [ 1  0  2  0 20]]\n",
      "                                      precision    recall  f1-score   support\n",
      "\n",
      "  Neurological & Cognitive Disorders       0.79      0.79      0.79        14\n",
      "                             Cancers       0.95      0.90      0.93        42\n",
      "             Cardiovascular Diseases       0.76      0.76      0.76        29\n",
      "     Metabolic & Endocrine Disorders       0.82      0.53      0.64        17\n",
      "Other Age-Related & Immune Disorders       0.65      0.87      0.74        23\n",
      "\n",
      "                            accuracy                           0.80       125\n",
      "                           macro avg       0.79      0.77      0.77       125\n",
      "                        weighted avg       0.81      0.80      0.80       125\n",
      "\n"
     ]
    }
   ],
   "source": [
    "focus_group_names = [\"Neurological & Cognitive Disorders\", \"Cancers\", \"Cardiovascular Diseases\", \n",
    "                     \"Metabolic & Endocrine Disorders\", \"Other Age-Related & Immune Disorders\"]\n",
    "\n",
    "conf_matrix = confusion_matrix(test_labels, nn_pred_labels)\n",
    "report = classification_report(test_labels, nn_pred_labels, target_names=focus_group_names)\n",
    "\n",
    "print(conf_matrix)\n",
    "print(report)"
   ]
  },
  {
   "cell_type": "markdown",
   "id": "1466bfd5",
   "metadata": {},
   "source": [
    "### Key Insights"
   ]
  },
  {
   "cell_type": "markdown",
   "id": "e4c7d076",
   "metadata": {},
   "source": [
    "The feedforward neural network with embeddings achieved moderate classification accuracy (0.8) across the five medical focus groups. The confusion matrix and classification report indicate that some groups are easier to distinguish than others, likely due to overlapping terminology and class imbalance. Overall, the model demonstrates the feasibility of automated medical text classification, but further improvements—such as balancing the dataset, refining preprocessing, or using more advanced architectures—could enhance performance."
   ]
  },
  {
   "cell_type": "markdown",
   "id": "1e9334fa",
   "metadata": {},
   "source": [
    "## Model 2 - Fine-tuned BERT Transformer"
   ]
  },
  {
   "cell_type": "markdown",
   "id": "1b438d07",
   "metadata": {},
   "source": [
    "### Load the pre-trained model"
   ]
  },
  {
   "cell_type": "code",
   "execution_count": 30,
   "id": "dcea2bad",
   "metadata": {},
   "outputs": [
    {
     "data": {
      "application/vnd.jupyter.widget-view+json": {
       "model_id": "a9354e4ce93e47baa3b934246b0b426a",
       "version_major": 2,
       "version_minor": 0
      },
      "text/plain": [
       "tokenizer_config.json:   0%|          | 0.00/28.0 [00:00<?, ?B/s]"
      ]
     },
     "metadata": {},
     "output_type": "display_data"
    },
    {
     "name": "stderr",
     "output_type": "stream",
     "text": [
      "c:\\Users\\Egor.Tykmanov\\AppData\\Local\\anaconda3\\Lib\\site-packages\\huggingface_hub\\file_download.py:143: UserWarning: `huggingface_hub` cache-system uses symlinks by default to efficiently store duplicated files but your machine does not support them in C:\\Users\\Egor.Tykmanov\\.cache\\huggingface\\hub\\models--microsoft--BiomedNLP-BiomedBERT-base-uncased-abstract-fulltext. Caching files will still work but in a degraded version that might require more space on your disk. This warning can be disabled by setting the `HF_HUB_DISABLE_SYMLINKS_WARNING` environment variable. For more details, see https://huggingface.co/docs/huggingface_hub/how-to-cache#limitations.\n",
      "To support symlinks on Windows, you either need to activate Developer Mode or to run Python as an administrator. In order to activate developer mode, see this article: https://docs.microsoft.com/en-us/windows/apps/get-started/enable-your-device-for-development\n",
      "  warnings.warn(message)\n"
     ]
    },
    {
     "data": {
      "application/vnd.jupyter.widget-view+json": {
       "model_id": "484faa1c6aeb4ee2a0230426505f48b3",
       "version_major": 2,
       "version_minor": 0
      },
      "text/plain": [
       "config.json:   0%|          | 0.00/385 [00:00<?, ?B/s]"
      ]
     },
     "metadata": {},
     "output_type": "display_data"
    },
    {
     "data": {
      "application/vnd.jupyter.widget-view+json": {
       "model_id": "244e0aa4ab054968adeb3a8b3b9caf2e",
       "version_major": 2,
       "version_minor": 0
      },
      "text/plain": [
       "vocab.txt: 0.00B [00:00, ?B/s]"
      ]
     },
     "metadata": {},
     "output_type": "display_data"
    },
    {
     "name": "stderr",
     "output_type": "stream",
     "text": [
      "Xet Storage is enabled for this repo, but the 'hf_xet' package is not installed. Falling back to regular HTTP download. For better performance, install the package with: `pip install huggingface_hub[hf_xet]` or `pip install hf_xet`\n"
     ]
    },
    {
     "data": {
      "application/vnd.jupyter.widget-view+json": {
       "model_id": "079b0d01e6c04f6592510a7cdaf0c210",
       "version_major": 2,
       "version_minor": 0
      },
      "text/plain": [
       "pytorch_model.bin:   0%|          | 0.00/440M [00:00<?, ?B/s]"
      ]
     },
     "metadata": {},
     "output_type": "display_data"
    },
    {
     "name": "stderr",
     "output_type": "stream",
     "text": [
      "Xet Storage is enabled for this repo, but the 'hf_xet' package is not installed. Falling back to regular HTTP download. For better performance, install the package with: `pip install huggingface_hub[hf_xet]` or `pip install hf_xet`\n"
     ]
    },
    {
     "data": {
      "application/vnd.jupyter.widget-view+json": {
       "model_id": "56ae80decab34fd3b2d668407c28a5a7",
       "version_major": 2,
       "version_minor": 0
      },
      "text/plain": [
       "model.safetensors:   0%|          | 0.00/440M [00:00<?, ?B/s]"
      ]
     },
     "metadata": {},
     "output_type": "display_data"
    },
    {
     "name": "stderr",
     "output_type": "stream",
     "text": [
      "Some weights of BertForSequenceClassification were not initialized from the model checkpoint at microsoft/BiomedNLP-BiomedBERT-base-uncased-abstract-fulltext and are newly initialized: ['classifier.bias', 'classifier.weight']\n",
      "You should probably TRAIN this model on a down-stream task to be able to use it for predictions and inference.\n"
     ]
    }
   ],
   "source": [
    "# Load BiomedBERT model and tokenizer\n",
    "model_name = \"microsoft/BiomedNLP-BiomedBERT-base-uncased-abstract-fulltext\"\n",
    "bert_tokenizer = AutoTokenizer.from_pretrained(model_name)\n",
    "bert_model = AutoModelForSequenceClassification.from_pretrained(model_name, num_labels=n_focus_groups)"
   ]
  },
  {
   "cell_type": "code",
   "execution_count": 31,
   "id": "8b70c137",
   "metadata": {},
   "outputs": [
    {
     "name": "stdout",
     "output_type": "stream",
     "text": [
      "Using device: cpu\n"
     ]
    }
   ],
   "source": [
    "# Move model to GPU\n",
    "device = torch.device(\"cuda\" if torch.cuda.is_available() else \"cpu\")\n",
    "print(f\"Using device: {device}\")\n",
    "bert_model = bert_model.to(device)"
   ]
  },
  {
   "cell_type": "markdown",
   "id": "46864670",
   "metadata": {},
   "source": [
    "### Freeze and unfreeze layers"
   ]
  },
  {
   "cell_type": "code",
   "execution_count": null,
   "id": "51a25429",
   "metadata": {},
   "outputs": [
    {
     "name": "stdout",
     "output_type": "stream",
     "text": [
      "Layer: bert.embeddings.word_embeddings.weight | Shape: torch.Size([30522, 768]) | Requires Grad: True\n",
      "Layer: bert.embeddings.position_embeddings.weight | Shape: torch.Size([512, 768]) | Requires Grad: True\n",
      "Layer: bert.embeddings.token_type_embeddings.weight | Shape: torch.Size([2, 768]) | Requires Grad: True\n",
      "Layer: bert.embeddings.LayerNorm.weight | Shape: torch.Size([768]) | Requires Grad: True\n",
      "Layer: bert.embeddings.LayerNorm.bias | Shape: torch.Size([768]) | Requires Grad: True\n",
      "Layer: bert.encoder.layer.0.attention.self.query.weight | Shape: torch.Size([768, 768]) | Requires Grad: True\n",
      "Layer: bert.encoder.layer.0.attention.self.query.bias | Shape: torch.Size([768]) | Requires Grad: True\n",
      "Layer: bert.encoder.layer.0.attention.self.key.weight | Shape: torch.Size([768, 768]) | Requires Grad: True\n",
      "Layer: bert.encoder.layer.0.attention.self.key.bias | Shape: torch.Size([768]) | Requires Grad: True\n",
      "Layer: bert.encoder.layer.0.attention.self.value.weight | Shape: torch.Size([768, 768]) | Requires Grad: True\n",
      "Layer: bert.encoder.layer.0.attention.self.value.bias | Shape: torch.Size([768]) | Requires Grad: True\n",
      "Layer: bert.encoder.layer.0.attention.output.dense.weight | Shape: torch.Size([768, 768]) | Requires Grad: True\n",
      "Layer: bert.encoder.layer.0.attention.output.dense.bias | Shape: torch.Size([768]) | Requires Grad: True\n",
      "Layer: bert.encoder.layer.0.attention.output.LayerNorm.weight | Shape: torch.Size([768]) | Requires Grad: True\n",
      "Layer: bert.encoder.layer.0.attention.output.LayerNorm.bias | Shape: torch.Size([768]) | Requires Grad: True\n",
      "Layer: bert.encoder.layer.0.intermediate.dense.weight | Shape: torch.Size([3072, 768]) | Requires Grad: True\n",
      "Layer: bert.encoder.layer.0.intermediate.dense.bias | Shape: torch.Size([3072]) | Requires Grad: True\n",
      "Layer: bert.encoder.layer.0.output.dense.weight | Shape: torch.Size([768, 3072]) | Requires Grad: True\n",
      "Layer: bert.encoder.layer.0.output.dense.bias | Shape: torch.Size([768]) | Requires Grad: True\n",
      "Layer: bert.encoder.layer.0.output.LayerNorm.weight | Shape: torch.Size([768]) | Requires Grad: True\n",
      "Layer: bert.encoder.layer.0.output.LayerNorm.bias | Shape: torch.Size([768]) | Requires Grad: True\n",
      "Layer: bert.encoder.layer.1.attention.self.query.weight | Shape: torch.Size([768, 768]) | Requires Grad: True\n",
      "Layer: bert.encoder.layer.1.attention.self.query.bias | Shape: torch.Size([768]) | Requires Grad: True\n",
      "Layer: bert.encoder.layer.1.attention.self.key.weight | Shape: torch.Size([768, 768]) | Requires Grad: True\n",
      "Layer: bert.encoder.layer.1.attention.self.key.bias | Shape: torch.Size([768]) | Requires Grad: True\n",
      "Layer: bert.encoder.layer.1.attention.self.value.weight | Shape: torch.Size([768, 768]) | Requires Grad: True\n",
      "Layer: bert.encoder.layer.1.attention.self.value.bias | Shape: torch.Size([768]) | Requires Grad: True\n",
      "Layer: bert.encoder.layer.1.attention.output.dense.weight | Shape: torch.Size([768, 768]) | Requires Grad: True\n",
      "Layer: bert.encoder.layer.1.attention.output.dense.bias | Shape: torch.Size([768]) | Requires Grad: True\n",
      "Layer: bert.encoder.layer.1.attention.output.LayerNorm.weight | Shape: torch.Size([768]) | Requires Grad: True\n",
      "Layer: bert.encoder.layer.1.attention.output.LayerNorm.bias | Shape: torch.Size([768]) | Requires Grad: True\n",
      "Layer: bert.encoder.layer.1.intermediate.dense.weight | Shape: torch.Size([3072, 768]) | Requires Grad: True\n",
      "Layer: bert.encoder.layer.1.intermediate.dense.bias | Shape: torch.Size([3072]) | Requires Grad: True\n",
      "Layer: bert.encoder.layer.1.output.dense.weight | Shape: torch.Size([768, 3072]) | Requires Grad: True\n",
      "Layer: bert.encoder.layer.1.output.dense.bias | Shape: torch.Size([768]) | Requires Grad: True\n",
      "Layer: bert.encoder.layer.1.output.LayerNorm.weight | Shape: torch.Size([768]) | Requires Grad: True\n",
      "Layer: bert.encoder.layer.1.output.LayerNorm.bias | Shape: torch.Size([768]) | Requires Grad: True\n",
      "Layer: bert.encoder.layer.2.attention.self.query.weight | Shape: torch.Size([768, 768]) | Requires Grad: True\n",
      "Layer: bert.encoder.layer.2.attention.self.query.bias | Shape: torch.Size([768]) | Requires Grad: True\n",
      "Layer: bert.encoder.layer.2.attention.self.key.weight | Shape: torch.Size([768, 768]) | Requires Grad: True\n",
      "Layer: bert.encoder.layer.2.attention.self.key.bias | Shape: torch.Size([768]) | Requires Grad: True\n",
      "Layer: bert.encoder.layer.2.attention.self.value.weight | Shape: torch.Size([768, 768]) | Requires Grad: True\n",
      "Layer: bert.encoder.layer.2.attention.self.value.bias | Shape: torch.Size([768]) | Requires Grad: True\n",
      "Layer: bert.encoder.layer.2.attention.output.dense.weight | Shape: torch.Size([768, 768]) | Requires Grad: True\n",
      "Layer: bert.encoder.layer.2.attention.output.dense.bias | Shape: torch.Size([768]) | Requires Grad: True\n",
      "Layer: bert.encoder.layer.2.attention.output.LayerNorm.weight | Shape: torch.Size([768]) | Requires Grad: True\n",
      "Layer: bert.encoder.layer.2.attention.output.LayerNorm.bias | Shape: torch.Size([768]) | Requires Grad: True\n",
      "Layer: bert.encoder.layer.2.intermediate.dense.weight | Shape: torch.Size([3072, 768]) | Requires Grad: True\n",
      "Layer: bert.encoder.layer.2.intermediate.dense.bias | Shape: torch.Size([3072]) | Requires Grad: True\n",
      "Layer: bert.encoder.layer.2.output.dense.weight | Shape: torch.Size([768, 3072]) | Requires Grad: True\n",
      "Layer: bert.encoder.layer.2.output.dense.bias | Shape: torch.Size([768]) | Requires Grad: True\n",
      "Layer: bert.encoder.layer.2.output.LayerNorm.weight | Shape: torch.Size([768]) | Requires Grad: True\n",
      "Layer: bert.encoder.layer.2.output.LayerNorm.bias | Shape: torch.Size([768]) | Requires Grad: True\n",
      "Layer: bert.encoder.layer.3.attention.self.query.weight | Shape: torch.Size([768, 768]) | Requires Grad: True\n",
      "Layer: bert.encoder.layer.3.attention.self.query.bias | Shape: torch.Size([768]) | Requires Grad: True\n",
      "Layer: bert.encoder.layer.3.attention.self.key.weight | Shape: torch.Size([768, 768]) | Requires Grad: True\n",
      "Layer: bert.encoder.layer.3.attention.self.key.bias | Shape: torch.Size([768]) | Requires Grad: True\n",
      "Layer: bert.encoder.layer.3.attention.self.value.weight | Shape: torch.Size([768, 768]) | Requires Grad: True\n",
      "Layer: bert.encoder.layer.3.attention.self.value.bias | Shape: torch.Size([768]) | Requires Grad: True\n",
      "Layer: bert.encoder.layer.3.attention.output.dense.weight | Shape: torch.Size([768, 768]) | Requires Grad: True\n",
      "Layer: bert.encoder.layer.3.attention.output.dense.bias | Shape: torch.Size([768]) | Requires Grad: True\n",
      "Layer: bert.encoder.layer.3.attention.output.LayerNorm.weight | Shape: torch.Size([768]) | Requires Grad: True\n",
      "Layer: bert.encoder.layer.3.attention.output.LayerNorm.bias | Shape: torch.Size([768]) | Requires Grad: True\n",
      "Layer: bert.encoder.layer.3.intermediate.dense.weight | Shape: torch.Size([3072, 768]) | Requires Grad: True\n",
      "Layer: bert.encoder.layer.3.intermediate.dense.bias | Shape: torch.Size([3072]) | Requires Grad: True\n",
      "Layer: bert.encoder.layer.3.output.dense.weight | Shape: torch.Size([768, 3072]) | Requires Grad: True\n",
      "Layer: bert.encoder.layer.3.output.dense.bias | Shape: torch.Size([768]) | Requires Grad: True\n",
      "Layer: bert.encoder.layer.3.output.LayerNorm.weight | Shape: torch.Size([768]) | Requires Grad: True\n",
      "Layer: bert.encoder.layer.3.output.LayerNorm.bias | Shape: torch.Size([768]) | Requires Grad: True\n",
      "Layer: bert.encoder.layer.4.attention.self.query.weight | Shape: torch.Size([768, 768]) | Requires Grad: True\n",
      "Layer: bert.encoder.layer.4.attention.self.query.bias | Shape: torch.Size([768]) | Requires Grad: True\n",
      "Layer: bert.encoder.layer.4.attention.self.key.weight | Shape: torch.Size([768, 768]) | Requires Grad: True\n",
      "Layer: bert.encoder.layer.4.attention.self.key.bias | Shape: torch.Size([768]) | Requires Grad: True\n",
      "Layer: bert.encoder.layer.4.attention.self.value.weight | Shape: torch.Size([768, 768]) | Requires Grad: True\n",
      "Layer: bert.encoder.layer.4.attention.self.value.bias | Shape: torch.Size([768]) | Requires Grad: True\n",
      "Layer: bert.encoder.layer.4.attention.output.dense.weight | Shape: torch.Size([768, 768]) | Requires Grad: True\n",
      "Layer: bert.encoder.layer.4.attention.output.dense.bias | Shape: torch.Size([768]) | Requires Grad: True\n",
      "Layer: bert.encoder.layer.4.attention.output.LayerNorm.weight | Shape: torch.Size([768]) | Requires Grad: True\n",
      "Layer: bert.encoder.layer.4.attention.output.LayerNorm.bias | Shape: torch.Size([768]) | Requires Grad: True\n",
      "Layer: bert.encoder.layer.4.intermediate.dense.weight | Shape: torch.Size([3072, 768]) | Requires Grad: True\n",
      "Layer: bert.encoder.layer.4.intermediate.dense.bias | Shape: torch.Size([3072]) | Requires Grad: True\n",
      "Layer: bert.encoder.layer.4.output.dense.weight | Shape: torch.Size([768, 3072]) | Requires Grad: True\n",
      "Layer: bert.encoder.layer.4.output.dense.bias | Shape: torch.Size([768]) | Requires Grad: True\n",
      "Layer: bert.encoder.layer.4.output.LayerNorm.weight | Shape: torch.Size([768]) | Requires Grad: True\n",
      "Layer: bert.encoder.layer.4.output.LayerNorm.bias | Shape: torch.Size([768]) | Requires Grad: True\n",
      "Layer: bert.encoder.layer.5.attention.self.query.weight | Shape: torch.Size([768, 768]) | Requires Grad: True\n",
      "Layer: bert.encoder.layer.5.attention.self.query.bias | Shape: torch.Size([768]) | Requires Grad: True\n",
      "Layer: bert.encoder.layer.5.attention.self.key.weight | Shape: torch.Size([768, 768]) | Requires Grad: True\n",
      "Layer: bert.encoder.layer.5.attention.self.key.bias | Shape: torch.Size([768]) | Requires Grad: True\n",
      "Layer: bert.encoder.layer.5.attention.self.value.weight | Shape: torch.Size([768, 768]) | Requires Grad: True\n",
      "Layer: bert.encoder.layer.5.attention.self.value.bias | Shape: torch.Size([768]) | Requires Grad: True\n",
      "Layer: bert.encoder.layer.5.attention.output.dense.weight | Shape: torch.Size([768, 768]) | Requires Grad: True\n",
      "Layer: bert.encoder.layer.5.attention.output.dense.bias | Shape: torch.Size([768]) | Requires Grad: True\n",
      "Layer: bert.encoder.layer.5.attention.output.LayerNorm.weight | Shape: torch.Size([768]) | Requires Grad: True\n",
      "Layer: bert.encoder.layer.5.attention.output.LayerNorm.bias | Shape: torch.Size([768]) | Requires Grad: True\n",
      "Layer: bert.encoder.layer.5.intermediate.dense.weight | Shape: torch.Size([3072, 768]) | Requires Grad: True\n",
      "Layer: bert.encoder.layer.5.intermediate.dense.bias | Shape: torch.Size([3072]) | Requires Grad: True\n",
      "Layer: bert.encoder.layer.5.output.dense.weight | Shape: torch.Size([768, 3072]) | Requires Grad: True\n",
      "Layer: bert.encoder.layer.5.output.dense.bias | Shape: torch.Size([768]) | Requires Grad: True\n",
      "Layer: bert.encoder.layer.5.output.LayerNorm.weight | Shape: torch.Size([768]) | Requires Grad: True\n",
      "Layer: bert.encoder.layer.5.output.LayerNorm.bias | Shape: torch.Size([768]) | Requires Grad: True\n",
      "Layer: bert.encoder.layer.6.attention.self.query.weight | Shape: torch.Size([768, 768]) | Requires Grad: True\n",
      "Layer: bert.encoder.layer.6.attention.self.query.bias | Shape: torch.Size([768]) | Requires Grad: True\n",
      "Layer: bert.encoder.layer.6.attention.self.key.weight | Shape: torch.Size([768, 768]) | Requires Grad: True\n",
      "Layer: bert.encoder.layer.6.attention.self.key.bias | Shape: torch.Size([768]) | Requires Grad: True\n",
      "Layer: bert.encoder.layer.6.attention.self.value.weight | Shape: torch.Size([768, 768]) | Requires Grad: True\n",
      "Layer: bert.encoder.layer.6.attention.self.value.bias | Shape: torch.Size([768]) | Requires Grad: True\n",
      "Layer: bert.encoder.layer.6.attention.output.dense.weight | Shape: torch.Size([768, 768]) | Requires Grad: True\n",
      "Layer: bert.encoder.layer.6.attention.output.dense.bias | Shape: torch.Size([768]) | Requires Grad: True\n",
      "Layer: bert.encoder.layer.6.attention.output.LayerNorm.weight | Shape: torch.Size([768]) | Requires Grad: True\n",
      "Layer: bert.encoder.layer.6.attention.output.LayerNorm.bias | Shape: torch.Size([768]) | Requires Grad: True\n",
      "Layer: bert.encoder.layer.6.intermediate.dense.weight | Shape: torch.Size([3072, 768]) | Requires Grad: True\n",
      "Layer: bert.encoder.layer.6.intermediate.dense.bias | Shape: torch.Size([3072]) | Requires Grad: True\n",
      "Layer: bert.encoder.layer.6.output.dense.weight | Shape: torch.Size([768, 3072]) | Requires Grad: True\n",
      "Layer: bert.encoder.layer.6.output.dense.bias | Shape: torch.Size([768]) | Requires Grad: True\n",
      "Layer: bert.encoder.layer.6.output.LayerNorm.weight | Shape: torch.Size([768]) | Requires Grad: True\n",
      "Layer: bert.encoder.layer.6.output.LayerNorm.bias | Shape: torch.Size([768]) | Requires Grad: True\n",
      "Layer: bert.encoder.layer.7.attention.self.query.weight | Shape: torch.Size([768, 768]) | Requires Grad: True\n",
      "Layer: bert.encoder.layer.7.attention.self.query.bias | Shape: torch.Size([768]) | Requires Grad: True\n",
      "Layer: bert.encoder.layer.7.attention.self.key.weight | Shape: torch.Size([768, 768]) | Requires Grad: True\n",
      "Layer: bert.encoder.layer.7.attention.self.key.bias | Shape: torch.Size([768]) | Requires Grad: True\n",
      "Layer: bert.encoder.layer.7.attention.self.value.weight | Shape: torch.Size([768, 768]) | Requires Grad: True\n",
      "Layer: bert.encoder.layer.7.attention.self.value.bias | Shape: torch.Size([768]) | Requires Grad: True\n",
      "Layer: bert.encoder.layer.7.attention.output.dense.weight | Shape: torch.Size([768, 768]) | Requires Grad: True\n",
      "Layer: bert.encoder.layer.7.attention.output.dense.bias | Shape: torch.Size([768]) | Requires Grad: True\n",
      "Layer: bert.encoder.layer.7.attention.output.LayerNorm.weight | Shape: torch.Size([768]) | Requires Grad: True\n",
      "Layer: bert.encoder.layer.7.attention.output.LayerNorm.bias | Shape: torch.Size([768]) | Requires Grad: True\n",
      "Layer: bert.encoder.layer.7.intermediate.dense.weight | Shape: torch.Size([3072, 768]) | Requires Grad: True\n",
      "Layer: bert.encoder.layer.7.intermediate.dense.bias | Shape: torch.Size([3072]) | Requires Grad: True\n",
      "Layer: bert.encoder.layer.7.output.dense.weight | Shape: torch.Size([768, 3072]) | Requires Grad: True\n",
      "Layer: bert.encoder.layer.7.output.dense.bias | Shape: torch.Size([768]) | Requires Grad: True\n",
      "Layer: bert.encoder.layer.7.output.LayerNorm.weight | Shape: torch.Size([768]) | Requires Grad: True\n",
      "Layer: bert.encoder.layer.7.output.LayerNorm.bias | Shape: torch.Size([768]) | Requires Grad: True\n",
      "Layer: bert.encoder.layer.8.attention.self.query.weight | Shape: torch.Size([768, 768]) | Requires Grad: True\n",
      "Layer: bert.encoder.layer.8.attention.self.query.bias | Shape: torch.Size([768]) | Requires Grad: True\n",
      "Layer: bert.encoder.layer.8.attention.self.key.weight | Shape: torch.Size([768, 768]) | Requires Grad: True\n",
      "Layer: bert.encoder.layer.8.attention.self.key.bias | Shape: torch.Size([768]) | Requires Grad: True\n",
      "Layer: bert.encoder.layer.8.attention.self.value.weight | Shape: torch.Size([768, 768]) | Requires Grad: True\n",
      "Layer: bert.encoder.layer.8.attention.self.value.bias | Shape: torch.Size([768]) | Requires Grad: True\n",
      "Layer: bert.encoder.layer.8.attention.output.dense.weight | Shape: torch.Size([768, 768]) | Requires Grad: True\n",
      "Layer: bert.encoder.layer.8.attention.output.dense.bias | Shape: torch.Size([768]) | Requires Grad: True\n",
      "Layer: bert.encoder.layer.8.attention.output.LayerNorm.weight | Shape: torch.Size([768]) | Requires Grad: True\n",
      "Layer: bert.encoder.layer.8.attention.output.LayerNorm.bias | Shape: torch.Size([768]) | Requires Grad: True\n",
      "Layer: bert.encoder.layer.8.intermediate.dense.weight | Shape: torch.Size([3072, 768]) | Requires Grad: True\n",
      "Layer: bert.encoder.layer.8.intermediate.dense.bias | Shape: torch.Size([3072]) | Requires Grad: True\n",
      "Layer: bert.encoder.layer.8.output.dense.weight | Shape: torch.Size([768, 3072]) | Requires Grad: True\n",
      "Layer: bert.encoder.layer.8.output.dense.bias | Shape: torch.Size([768]) | Requires Grad: True\n",
      "Layer: bert.encoder.layer.8.output.LayerNorm.weight | Shape: torch.Size([768]) | Requires Grad: True\n",
      "Layer: bert.encoder.layer.8.output.LayerNorm.bias | Shape: torch.Size([768]) | Requires Grad: True\n",
      "Layer: bert.encoder.layer.9.attention.self.query.weight | Shape: torch.Size([768, 768]) | Requires Grad: True\n",
      "Layer: bert.encoder.layer.9.attention.self.query.bias | Shape: torch.Size([768]) | Requires Grad: True\n",
      "Layer: bert.encoder.layer.9.attention.self.key.weight | Shape: torch.Size([768, 768]) | Requires Grad: True\n",
      "Layer: bert.encoder.layer.9.attention.self.key.bias | Shape: torch.Size([768]) | Requires Grad: True\n",
      "Layer: bert.encoder.layer.9.attention.self.value.weight | Shape: torch.Size([768, 768]) | Requires Grad: True\n",
      "Layer: bert.encoder.layer.9.attention.self.value.bias | Shape: torch.Size([768]) | Requires Grad: True\n",
      "Layer: bert.encoder.layer.9.attention.output.dense.weight | Shape: torch.Size([768, 768]) | Requires Grad: True\n",
      "Layer: bert.encoder.layer.9.attention.output.dense.bias | Shape: torch.Size([768]) | Requires Grad: True\n",
      "Layer: bert.encoder.layer.9.attention.output.LayerNorm.weight | Shape: torch.Size([768]) | Requires Grad: True\n",
      "Layer: bert.encoder.layer.9.attention.output.LayerNorm.bias | Shape: torch.Size([768]) | Requires Grad: True\n",
      "Layer: bert.encoder.layer.9.intermediate.dense.weight | Shape: torch.Size([3072, 768]) | Requires Grad: True\n",
      "Layer: bert.encoder.layer.9.intermediate.dense.bias | Shape: torch.Size([3072]) | Requires Grad: True\n",
      "Layer: bert.encoder.layer.9.output.dense.weight | Shape: torch.Size([768, 3072]) | Requires Grad: True\n",
      "Layer: bert.encoder.layer.9.output.dense.bias | Shape: torch.Size([768]) | Requires Grad: True\n",
      "Layer: bert.encoder.layer.9.output.LayerNorm.weight | Shape: torch.Size([768]) | Requires Grad: True\n",
      "Layer: bert.encoder.layer.9.output.LayerNorm.bias | Shape: torch.Size([768]) | Requires Grad: True\n",
      "Layer: bert.encoder.layer.10.attention.self.query.weight | Shape: torch.Size([768, 768]) | Requires Grad: True\n",
      "Layer: bert.encoder.layer.10.attention.self.query.bias | Shape: torch.Size([768]) | Requires Grad: True\n",
      "Layer: bert.encoder.layer.10.attention.self.key.weight | Shape: torch.Size([768, 768]) | Requires Grad: True\n",
      "Layer: bert.encoder.layer.10.attention.self.key.bias | Shape: torch.Size([768]) | Requires Grad: True\n",
      "Layer: bert.encoder.layer.10.attention.self.value.weight | Shape: torch.Size([768, 768]) | Requires Grad: True\n",
      "Layer: bert.encoder.layer.10.attention.self.value.bias | Shape: torch.Size([768]) | Requires Grad: True\n",
      "Layer: bert.encoder.layer.10.attention.output.dense.weight | Shape: torch.Size([768, 768]) | Requires Grad: True\n",
      "Layer: bert.encoder.layer.10.attention.output.dense.bias | Shape: torch.Size([768]) | Requires Grad: True\n",
      "Layer: bert.encoder.layer.10.attention.output.LayerNorm.weight | Shape: torch.Size([768]) | Requires Grad: True\n",
      "Layer: bert.encoder.layer.10.attention.output.LayerNorm.bias | Shape: torch.Size([768]) | Requires Grad: True\n",
      "Layer: bert.encoder.layer.10.intermediate.dense.weight | Shape: torch.Size([3072, 768]) | Requires Grad: True\n",
      "Layer: bert.encoder.layer.10.intermediate.dense.bias | Shape: torch.Size([3072]) | Requires Grad: True\n",
      "Layer: bert.encoder.layer.10.output.dense.weight | Shape: torch.Size([768, 3072]) | Requires Grad: True\n",
      "Layer: bert.encoder.layer.10.output.dense.bias | Shape: torch.Size([768]) | Requires Grad: True\n",
      "Layer: bert.encoder.layer.10.output.LayerNorm.weight | Shape: torch.Size([768]) | Requires Grad: True\n",
      "Layer: bert.encoder.layer.10.output.LayerNorm.bias | Shape: torch.Size([768]) | Requires Grad: True\n",
      "Layer: bert.encoder.layer.11.attention.self.query.weight | Shape: torch.Size([768, 768]) | Requires Grad: True\n",
      "Layer: bert.encoder.layer.11.attention.self.query.bias | Shape: torch.Size([768]) | Requires Grad: True\n",
      "Layer: bert.encoder.layer.11.attention.self.key.weight | Shape: torch.Size([768, 768]) | Requires Grad: True\n",
      "Layer: bert.encoder.layer.11.attention.self.key.bias | Shape: torch.Size([768]) | Requires Grad: True\n",
      "Layer: bert.encoder.layer.11.attention.self.value.weight | Shape: torch.Size([768, 768]) | Requires Grad: True\n",
      "Layer: bert.encoder.layer.11.attention.self.value.bias | Shape: torch.Size([768]) | Requires Grad: True\n",
      "Layer: bert.encoder.layer.11.attention.output.dense.weight | Shape: torch.Size([768, 768]) | Requires Grad: True\n",
      "Layer: bert.encoder.layer.11.attention.output.dense.bias | Shape: torch.Size([768]) | Requires Grad: True\n",
      "Layer: bert.encoder.layer.11.attention.output.LayerNorm.weight | Shape: torch.Size([768]) | Requires Grad: True\n",
      "Layer: bert.encoder.layer.11.attention.output.LayerNorm.bias | Shape: torch.Size([768]) | Requires Grad: True\n",
      "Layer: bert.encoder.layer.11.intermediate.dense.weight | Shape: torch.Size([3072, 768]) | Requires Grad: True\n",
      "Layer: bert.encoder.layer.11.intermediate.dense.bias | Shape: torch.Size([3072]) | Requires Grad: True\n",
      "Layer: bert.encoder.layer.11.output.dense.weight | Shape: torch.Size([768, 3072]) | Requires Grad: True\n",
      "Layer: bert.encoder.layer.11.output.dense.bias | Shape: torch.Size([768]) | Requires Grad: True\n",
      "Layer: bert.encoder.layer.11.output.LayerNorm.weight | Shape: torch.Size([768]) | Requires Grad: True\n",
      "Layer: bert.encoder.layer.11.output.LayerNorm.bias | Shape: torch.Size([768]) | Requires Grad: True\n",
      "Layer: bert.pooler.dense.weight | Shape: torch.Size([768, 768]) | Requires Grad: True\n",
      "Layer: bert.pooler.dense.bias | Shape: torch.Size([768]) | Requires Grad: True\n",
      "Layer: classifier.weight | Shape: torch.Size([5, 768]) | Requires Grad: True\n",
      "Layer: classifier.bias | Shape: torch.Size([5]) | Requires Grad: True\n"
     ]
    }
   ],
   "source": [
    "# Inspect architecture\n",
    "for name, param in bert_model.named_parameters():\n",
    "    print(f\"Layer: {name} | Shape: {param.shape} | Requires Grad: {param.requires_grad}\")"
   ]
  },
  {
   "cell_type": "code",
   "execution_count": 34,
   "id": "a60a4040",
   "metadata": {},
   "outputs": [],
   "source": [
    "# Freeze all layers\n",
    "for param in bert_model.bert.parameters():\n",
    "    param.requires_grad = False\n",
    "# Unfreeze the classifier layer\n",
    "for param in bert_model.classifier.parameters():\n",
    "    param.requires_grad = True\n",
    "# Unfreeze the pooler layer\n",
    "for param in bert_model.bert.pooler.parameters():\n",
    "    param.requires_grad = True\n",
    "# Unfreeze the last 3 layers of the encoder (layers 9-11)\n",
    "for i in range(9, 12):\n",
    "    for param in bert_model.bert.encoder.layer[i].parameters():\n",
    "        param.requires_grad = True"
   ]
  },
  {
   "cell_type": "markdown",
   "id": "e56e4f11",
   "metadata": {},
   "source": [
    "### Tokenizing"
   ]
  },
  {
   "cell_type": "code",
   "execution_count": 35,
   "id": "297381ad",
   "metadata": {},
   "outputs": [],
   "source": [
    "MAX_SEQ_LENGTH = 512\n",
    "\n",
    "X_train = bert_tokenizer(masked_train_texts, padding=True, truncation=True, return_tensors=\"pt\", max_length=MAX_SEQ_LENGTH)\n",
    "y_train = torch.tensor(train_labels, dtype=torch.long)\n",
    "\n",
    "train_dataset = TensorDataset(\n",
    "    X_train['input_ids'].to(device), \n",
    "    X_train['attention_mask'].to(device), \n",
    "    y_train.to(device)\n",
    ")\n",
    "train_loader = DataLoader(train_dataset, batch_size=16, shuffle=True)"
   ]
  },
  {
   "cell_type": "markdown",
   "id": "412fae15",
   "metadata": {},
   "source": [
    "### Fine-Tuning Loop"
   ]
  },
  {
   "cell_type": "code",
   "execution_count": 36,
   "id": "2ec9c166",
   "metadata": {},
   "outputs": [],
   "source": [
    "optimizer = torch.optim.AdamW(filter(lambda p: p.requires_grad, bert_model.parameters()), \n",
    "                              lr=0.00001)\n",
    "criterion = nn.CrossEntropyLoss()"
   ]
  },
  {
   "cell_type": "code",
   "execution_count": 37,
   "id": "ad2018cc",
   "metadata": {},
   "outputs": [
    {
     "name": "stdout",
     "output_type": "stream",
     "text": [
      "Epoch 1, Average CE Loss: 1.5691405273973942\n",
      "Epoch 2, Average CE Loss: 1.4481211081147194\n",
      "Epoch 3, Average CE Loss: 1.3312761299312115\n",
      "Epoch 4, Average CE Loss: 1.046698346734047\n",
      "Epoch 5, Average CE Loss: 0.6922806915827096\n",
      "Epoch 6, Average CE Loss: 0.4616279462352395\n",
      "Epoch 7, Average CE Loss: 0.3416350884363055\n",
      "Epoch 8, Average CE Loss: 0.2845331118442118\n",
      "Epoch 9, Average CE Loss: 0.18814481468871236\n",
      "Epoch 10, Average CE Loss: 0.15574884973466396\n"
     ]
    }
   ],
   "source": [
    "num_epochs = 10\n",
    "for epoch in range(num_epochs):\n",
    "    bert_model.train()\n",
    "    total_loss = 0.0\n",
    "    \n",
    "    for batch_X, batch_attention_mask, batch_y in train_loader:\n",
    "        optimizer.zero_grad()\n",
    "        outputs = bert_model(input_ids=batch_X, \n",
    "                                     attention_mask=batch_attention_mask)\n",
    "        logits = outputs.logits\n",
    "        loss = criterion(logits, batch_y)\n",
    "        total_loss += loss.item()\n",
    "        loss.backward()\n",
    "        optimizer.step()\n",
    "    \n",
    "    avg_loss = total_loss / len(train_loader)\n",
    "    if (epoch + 1) % 1 == 0:\n",
    "        print(f'Epoch {epoch+1}, Average CE Loss: {avg_loss}')"
   ]
  },
  {
   "cell_type": "markdown",
   "id": "a1594cb3",
   "metadata": {},
   "source": [
    "### Testing Set Evaluation"
   ]
  },
  {
   "cell_type": "code",
   "execution_count": 38,
   "id": "be120100",
   "metadata": {},
   "outputs": [],
   "source": [
    "# Tokenize and convert to tensors\n",
    "X_test = bert_tokenizer(test_texts, padding=True, truncation=True, return_tensors=\"pt\", max_length=MAX_SEQ_LENGTH)\n",
    "y_test = torch.tensor(test_labels, dtype=torch.long)\n",
    "\n",
    "# Batch the testing set\n",
    "from torch.utils.data import DataLoader, TensorDataset\n",
    "test_dataset = TensorDataset(X_test['input_ids'].to(device), \n",
    "                             X_test['attention_mask'].to(device),\n",
    "                             y_test.to(device))\n",
    "test_loader = DataLoader(test_dataset, batch_size=8, shuffle=False)"
   ]
  },
  {
   "cell_type": "code",
   "execution_count": 39,
   "id": "a9d0ccaa",
   "metadata": {},
   "outputs": [],
   "source": [
    "bert_model.eval()\n",
    "bert_pred_probs = []\n",
    "bert_pred_labels = []\n",
    "\n",
    "with torch.no_grad():\n",
    "    for batch_X, batch_attention_mask, batch_y in test_loader:\n",
    "        outputs = bert_model(input_ids= batch_X, \n",
    "                                   attention_mask= batch_attention_mask)\n",
    "        logits = outputs.logits\n",
    "        probs = F.softmax(logits, dim=1)\n",
    "        bert_pred_probs.extend(probs.cpu().numpy())\n",
    "        \n",
    "        predicted_labels = torch.argmax(logits, dim=1)\n",
    "        bert_pred_labels.extend(predicted_labels.cpu().numpy())"
   ]
  },
  {
   "cell_type": "code",
   "execution_count": 40,
   "id": "e59ff3b7",
   "metadata": {},
   "outputs": [
    {
     "name": "stdout",
     "output_type": "stream",
     "text": [
      "[[14  0  0  0  0]\n",
      " [ 0 41  0  0  1]\n",
      " [ 0  0 29  0  0]\n",
      " [ 0  0  1 16  0]\n",
      " [ 0  0  0  0 23]]\n",
      "                                      precision    recall  f1-score   support\n",
      "\n",
      "  Neurological & Cognitive Disorders       1.00      1.00      1.00        14\n",
      "                             Cancers       1.00      0.98      0.99        42\n",
      "             Cardiovascular Diseases       0.97      1.00      0.98        29\n",
      "     Metabolic & Endocrine Disorders       1.00      0.94      0.97        17\n",
      "Other Age-Related & Immune Disorders       0.96      1.00      0.98        23\n",
      "\n",
      "                            accuracy                           0.98       125\n",
      "                           macro avg       0.98      0.98      0.98       125\n",
      "                        weighted avg       0.98      0.98      0.98       125\n",
      "\n"
     ]
    }
   ],
   "source": [
    "focus_group_names = [\"Neurological & Cognitive Disorders\", \"Cancers\", \"Cardiovascular Diseases\", \n",
    "                     \"Metabolic & Endocrine Disorders\", \"Other Age-Related & Immune Disorders\"]\n",
    "\n",
    "confusion_matrix = confusion_matrix(test_labels, bert_pred_labels)\n",
    "report = classification_report(test_labels, bert_pred_labels, target_names=focus_group_names)\n",
    "\n",
    "print(confusion_matrix)\n",
    "print(report)"
   ]
  },
  {
   "cell_type": "markdown",
   "id": "49939306",
   "metadata": {},
   "source": [
    "### Key Insights"
   ]
  },
  {
   "cell_type": "markdown",
   "id": "5cfc6da9",
   "metadata": {},
   "source": [
    "The fine-tuned specialized BiomedBERT significantly outperforms the simple neural network, achieving nearly perfect classification scores across all classes in each key metric!"
   ]
  },
  {
   "cell_type": "markdown",
   "id": "63d7471b",
   "metadata": {},
   "source": [
    "## Conclusion"
   ]
  },
  {
   "cell_type": "markdown",
   "id": "6a2d5298",
   "metadata": {},
   "source": [
    "In conclusion, in this project, two models were implemented, trained for task classification medical text. The first model is the FeedForward NN With Embeddings, which gave moderate results. The second model is a fine-tuned model based on the pre-trained BERT Transformer. Having a lot complicated architecture and demanding much more computational resources, the second model totally outperformed simple NN and gave almost perfect results."
   ]
  }
 ],
 "metadata": {
  "kernelspec": {
   "display_name": "base",
   "language": "python",
   "name": "python3"
  },
  "language_info": {
   "codemirror_mode": {
    "name": "ipython",
    "version": 3
   },
   "file_extension": ".py",
   "mimetype": "text/x-python",
   "name": "python",
   "nbconvert_exporter": "python",
   "pygments_lexer": "ipython3",
   "version": "3.11.7"
  }
 },
 "nbformat": 4,
 "nbformat_minor": 5
}
